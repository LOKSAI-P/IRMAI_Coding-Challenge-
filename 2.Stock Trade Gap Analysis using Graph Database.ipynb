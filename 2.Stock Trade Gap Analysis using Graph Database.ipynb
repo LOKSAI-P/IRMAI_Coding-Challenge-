{
 "cells": [
  {
   "cell_type": "code",
   "execution_count": null,
   "id": "b0a73c6e-af88-421b-8175-0d5c5e6d392f",
   "metadata": {},
   "outputs": [],
   "source": [
    "\"\"\"\n",
    "Project 2: Stock Trade Gap Analysis using Graph Database\n",
    "\n",
    "Objectives\n",
    "        Develop a Stock Trade Gap Analysis System – Build a system to analyze stock trade data and identify gaps or inconsistencies.\n",
    "        \n",
    "        Construct a Graph-Based Trade Model – Store stock trade data in a Neo4j graph database, representing trades as nodes and relationships between them as edges.\n",
    "        \n",
    "        Identify Gaps in Trading Patterns – Implement a gap analysis algorithm to detect missing trades, unusual price jumps, and inconsistencies.\n",
    "        \n",
    "        Compare Actual Trades with Expected Patterns – Define trade benchmarks and identify deviations from expected behavior.\n",
    "        \n",
    "        Visualize and Report Insights – Generate interactive visualizations and summary reports highlighting trade gaps and anomalies.\n",
    "        \n",
    "\"\"\""
   ]
  },
  {
   "cell_type": "code",
   "execution_count": 17,
   "id": "49ce898e-1d43-49da-b4c2-528e4bbe619b",
   "metadata": {},
   "outputs": [
    {
     "name": "stdout",
     "output_type": "stream",
     "text": [
      "Requirement already satisfied: neo4j in c:\\users\\loksa\\appdata\\local\\programs\\python\\python313\\lib\\site-packages (5.28.1)\n",
      "Requirement already satisfied: pandas in c:\\users\\loksa\\appdata\\local\\programs\\python\\python313\\lib\\site-packages (2.2.3)\n",
      "Requirement already satisfied: numpy in c:\\users\\loksa\\appdata\\local\\programs\\python\\python313\\lib\\site-packages (2.2.3)\n",
      "Requirement already satisfied: scipy in c:\\users\\loksa\\appdata\\local\\programs\\python\\python313\\lib\\site-packages (1.15.2)\n",
      "Requirement already satisfied: networkx in c:\\users\\loksa\\appdata\\local\\programs\\python\\python313\\lib\\site-packages (3.4.2)\n",
      "Requirement already satisfied: matplotlib in c:\\users\\loksa\\appdata\\local\\programs\\python\\python313\\lib\\site-packages (3.10.0)\n",
      "Requirement already satisfied: pytz in c:\\users\\loksa\\appdata\\local\\programs\\python\\python313\\lib\\site-packages (from neo4j) (2025.1)\n",
      "Requirement already satisfied: python-dateutil>=2.8.2 in c:\\users\\loksa\\appdata\\local\\programs\\python\\python313\\lib\\site-packages (from pandas) (2.9.0.post0)\n",
      "Requirement already satisfied: tzdata>=2022.7 in c:\\users\\loksa\\appdata\\local\\programs\\python\\python313\\lib\\site-packages (from pandas) (2025.1)\n",
      "Requirement already satisfied: contourpy>=1.0.1 in c:\\users\\loksa\\appdata\\local\\programs\\python\\python313\\lib\\site-packages (from matplotlib) (1.3.1)\n",
      "Requirement already satisfied: cycler>=0.10 in c:\\users\\loksa\\appdata\\local\\programs\\python\\python313\\lib\\site-packages (from matplotlib) (0.12.1)\n",
      "Requirement already satisfied: fonttools>=4.22.0 in c:\\users\\loksa\\appdata\\local\\programs\\python\\python313\\lib\\site-packages (from matplotlib) (4.56.0)\n",
      "Requirement already satisfied: kiwisolver>=1.3.1 in c:\\users\\loksa\\appdata\\local\\programs\\python\\python313\\lib\\site-packages (from matplotlib) (1.4.8)\n",
      "Requirement already satisfied: packaging>=20.0 in c:\\users\\loksa\\appdata\\local\\programs\\python\\python313\\lib\\site-packages (from matplotlib) (24.2)\n",
      "Requirement already satisfied: pillow>=8 in c:\\users\\loksa\\appdata\\local\\programs\\python\\python313\\lib\\site-packages (from matplotlib) (11.1.0)\n",
      "Requirement already satisfied: pyparsing>=2.3.1 in c:\\users\\loksa\\appdata\\local\\programs\\python\\python313\\lib\\site-packages (from matplotlib) (3.2.1)\n",
      "Requirement already satisfied: six>=1.5 in c:\\users\\loksa\\appdata\\local\\programs\\python\\python313\\lib\\site-packages (from python-dateutil>=2.8.2->pandas) (1.17.0)\n"
     ]
    }
   ],
   "source": [
    "!pip install neo4j pandas numpy scipy networkx matplotlib\n"
   ]
  },
  {
   "cell_type": "code",
   "execution_count": 18,
   "id": "67404580-9bbc-497a-ac39-0692548f7303",
   "metadata": {},
   "outputs": [
    {
     "name": "stdout",
     "output_type": "stream",
     "text": [
      "Connected to Neo4j successfully!\n"
     ]
    }
   ],
   "source": [
    "##Connect to Neo4j##\n",
    "from neo4j import GraphDatabase\n",
    "\n",
    "# Neo4j connection details\n",
    "URL = \"bolt://localhost:7687\"  \n",
    "USERNAME = \"neo4j\"\n",
    "PASSWORD = \"password\"\n",
    "\n",
    "# Connect to Neo4j\n",
    "driver = GraphDatabase.driver(URI, auth=(USERNAME, PASSWORD))\n",
    "\n",
    "print(\"Connected to Neo4j successfully!\")"
   ]
  },
  {
   "cell_type": "code",
   "execution_count": 19,
   "id": "1a90fee3-7387-44ad-a88a-de37b9157ccc",
   "metadata": {},
   "outputs": [
    {
     "name": "stdout",
     "output_type": "stream",
     "text": [
      "    trade_id ticker  volume  price           timestamp\n",
      "0          1   AAPL    1000    150 2024-02-01 00:00:00\n",
      "1          2   AAPL    1200    152 2024-02-01 01:00:00\n",
      "2          3   AAPL       0    180 2024-02-01 02:00:00\n",
      "3          4   AAPL    1100    151 2024-02-01 03:00:00\n",
      "4          5   AAPL    1300    153 2024-02-01 04:00:00\n",
      "5          6   AAPL    1400    154 2024-02-01 05:00:00\n",
      "6          7   AAPL    1250    149 2024-02-01 06:00:00\n",
      "7          8   AAPL       0      0 2024-02-01 07:00:00\n",
      "8          9   AAPL    1150    150 2024-02-01 08:00:00\n",
      "9         10   AAPL    1350    155 2024-02-01 09:00:00\n",
      "10        11   MSFT    2000    300 2024-02-01 10:00:00\n",
      "11        12   MSFT       0      0 2024-02-01 11:00:00\n",
      "12        13   MSFT    2100    305 2024-02-01 12:00:00\n",
      "13        14   MSFT    2500    310 2024-02-01 13:00:00\n",
      "14        15   MSFT    2600    315 2024-02-01 14:00:00\n",
      "15        16   MSFT    2700    318 2024-02-01 15:00:00\n",
      "16        17   MSFT    2550    312 2024-02-01 16:00:00\n",
      "17        18   MSFT    2300    290 2024-02-01 17:00:00\n",
      "18        19   MSFT       0      0 2024-02-01 18:00:00\n",
      "19        20   MSFT    2450    295 2024-02-01 19:00:00\n"
     ]
    }
   ],
   "source": [
    "\n",
    "import pandas as pd\n",
    "import numpy as np\n",
    "\n",
    "# Generate sample stock trade data with gaps\n",
    "np.random.seed(42)\n",
    "\n",
    "data = {\n",
    "    \"trade_id\": range(1, 21),  \n",
    "    \"ticker\": [\"AAPL\"] * 10 + [\"MSFT\"] * 10, \n",
    "    \"volume\": [1000, 1200, 0, 1100, 1300,  \n",
    "               1400, 1250, 0, 1150, 1350,  \n",
    "               2000, 0, 2100, 2500, 2600,  \n",
    "               2700, 2550, 2300, 0, 2450],  \n",
    "    \"price\": [150, 152, 180, 151, 153,  \n",
    "              154, 149, 0, 150, 155,  \n",
    "              300, 0, 305, 310, 315,  \n",
    "              318, 312, 290, 0, 295],  \n",
    "    \"timestamp\": pd.date_range(\"2024-02-01\", periods=20, freq=\"h\")  \n",
    "}\n",
    "\n",
    "# Convert to DataFrame\n",
    "df = pd.DataFrame(data)\n",
    "\n",
    "print(df)\n"
   ]
  },
  {
   "cell_type": "code",
   "execution_count": 20,
   "id": "afaa2ceb-b335-4bad-9e06-60e1ee5e1222",
   "metadata": {},
   "outputs": [
    {
     "name": "stderr",
     "output_type": "stream",
     "text": [
      "C:\\Users\\loksa\\AppData\\Local\\Temp\\ipykernel_18124\\1622865743.py:11: DeprecationWarning: write_transaction has been renamed to execute_write\n",
      "  session.write_transaction(insert_trade, row.to_dict())\n"
     ]
    },
    {
     "name": "stdout",
     "output_type": "stream",
     "text": [
      "Inserted stock trades into Neo4j!\n"
     ]
    }
   ],
   "source": [
    "def insert_trade(tx, trade):\n",
    "    query = \"\"\"\n",
    "    CREATE (t:Trade {trade_id: $trade_id, ticker: $ticker, \n",
    "                     volume: $volume, price: $price, timestamp: $timestamp})\n",
    "    \"\"\"\n",
    "    tx.run(query, **trade)\n",
    "\n",
    "# Insert each row from DataFrame into Neo4j\n",
    "with driver.session() as session:\n",
    "    for _, row in df.iterrows():\n",
    "        session.write_transaction(insert_trade, row.to_dict())\n",
    "\n",
    "print(\"Inserted stock trades into Neo4j!\")\n"
   ]
  },
  {
   "cell_type": "code",
   "execution_count": 21,
   "id": "8929c51f-5311-40ab-970a-43cb4ca88939",
   "metadata": {},
   "outputs": [
    {
     "name": "stderr",
     "output_type": "stream",
     "text": [
      "C:\\Users\\loksa\\AppData\\Local\\Temp\\ipykernel_18124\\3646119446.py:10: DeprecationWarning: write_transaction has been renamed to execute_write\n",
      "  session.write_transaction(create_relationships)\n"
     ]
    },
    {
     "name": "stdout",
     "output_type": "stream",
     "text": [
      "Created relationships between consecutive trades!\n"
     ]
    }
   ],
   "source": [
    "def create_relationships(tx):\n",
    "    query = \"\"\"\n",
    "    MATCH (t1:Trade), (t2:Trade) \n",
    "    WHERE t1.timestamp < t2.timestamp\n",
    "    CREATE (t1)-[:NEXT_TRADE]->(t2)\n",
    "    \"\"\"\n",
    "    tx.run(query)\n",
    "\n",
    "with driver.session() as session:\n",
    "    session.write_transaction(create_relationships)\n",
    "\n",
    "print(\"Created relationships between consecutive trades!\")\n"
   ]
  },
  {
   "cell_type": "code",
   "execution_count": 22,
   "id": "aea47d04-91e4-4ef7-9947-f94bf6f63c71",
   "metadata": {},
   "outputs": [
    {
     "name": "stdout",
     "output_type": "stream",
     "text": [
      "    trade_id  missing_volume  missing_price  sudden_jump  is_gap\n",
      "0          1           False          False        False   False\n",
      "1          2           False          False        False   False\n",
      "2          3            True          False         True    True\n",
      "3          4           False          False         True    True\n",
      "4          5           False          False        False   False\n",
      "5          6           False          False        False   False\n",
      "6          7           False          False        False   False\n",
      "7          8            True           True         True    True\n",
      "8          9           False          False         True    True\n",
      "9         10           False          False        False   False\n",
      "10        11           False          False         True    True\n",
      "11        12            True           True         True    True\n",
      "12        13           False          False         True    True\n",
      "13        14           False          False        False   False\n",
      "14        15           False          False        False   False\n",
      "15        16           False          False        False   False\n",
      "16        17           False          False        False   False\n",
      "17        18           False          False         True    True\n",
      "18        19            True           True         True    True\n",
      "19        20           False          False         True    True\n"
     ]
    }
   ],
   "source": [
    "df[\"missing_volume\"] = df[\"volume\"] == 0\n",
    "df[\"missing_price\"] = df[\"price\"] == 0\n",
    "\n",
    "# Compute price change between consecutive trades\n",
    "df[\"price_change\"] = df[\"price\"].diff().fillna(0).abs()\n",
    "df[\"sudden_jump\"] = df[\"price_change\"] > 20  # Define threshold for jumps\n",
    "\n",
    "# Define gaps\n",
    "df[\"is_gap\"] = df[\"missing_volume\"] | df[\"missing_price\"] | df[\"sudden_jump\"]\n",
    "\n",
    "print(df[[\"trade_id\", \"missing_volume\", \"missing_price\", \"sudden_jump\", \"is_gap\"]])\n"
   ]
  },
  {
   "cell_type": "code",
   "execution_count": 23,
   "id": "e68eef2c-714e-4f2a-9d5c-4c29f3203651",
   "metadata": {},
   "outputs": [
    {
     "name": "stderr",
     "output_type": "stream",
     "text": [
      "C:\\Users\\loksa\\AppData\\Local\\Temp\\ipykernel_18124\\4010075300.py:10: DeprecationWarning: write_transaction has been renamed to execute_write\n",
      "  session.write_transaction(mark_gaps, row[\"trade_id\"], row[\"is_gap\"])\n"
     ]
    },
    {
     "name": "stdout",
     "output_type": "stream",
     "text": [
      "Marked gaps in Neo4j!\n"
     ]
    }
   ],
   "source": [
    "def mark_gaps(tx, trade_id, is_gap):\n",
    "    query = \"\"\"\n",
    "    MATCH (t:Trade {trade_id: $trade_id})\n",
    "    SET t.is_gap = $is_gap\n",
    "    \"\"\"\n",
    "    tx.run(query, trade_id=int(trade_id), is_gap=bool(is_gap))\n",
    "\n",
    "with driver.session() as session:\n",
    "    for _, row in df.iterrows():\n",
    "        session.write_transaction(mark_gaps, row[\"trade_id\"], row[\"is_gap\"])\n",
    "\n",
    "print(\"Marked gaps in Neo4j!\")\n"
   ]
  },
  {
   "cell_type": "code",
   "execution_count": 24,
   "id": "068f6d12-aa95-4ba4-8961-81cc1e8dadbd",
   "metadata": {},
   "outputs": [
    {
     "data": {
      "image/png": "[encoded data removed]",
      "text/plain": [
       "<Figure size 800x600 with 1 Axes>"
      ]
     },
     "metadata": {},
     "output_type": "display_data"
    }
   ],
   "source": [
    "import networkx as nx\n",
    "import matplotlib.pyplot as plt\n",
    "\n",
    "# Create graph\n",
    "G = nx.DiGraph()\n",
    "\n",
    "# Add nodes (trades)\n",
    "for _, row in df.iterrows():\n",
    "    color = \"red\" if row.get(\"is_gap\", False) else \"green\"  # Ensure column exists\n",
    "    G.add_node(row[\"trade_id\"], color=color, label=f\"{row['trade_id']}\")\n",
    "\n",
    "# Add edges (NEXT_TRADE relationships)\n",
    "for i in range(len(df) - 1):\n",
    "    G.add_edge(df.loc[i, \"trade_id\"], df.loc[i+1, \"trade_id\"])\n",
    "\n",
    "# Define layout\n",
    "pos = nx.circular_layout(G)  # Use circular layout for better clarity\n",
    "\n",
    "# Get colors\n",
    "node_colors = [G.nodes[n][\"color\"] for n in G.nodes]\n",
    "\n",
    "# Draw graph\n",
    "plt.figure(figsize=(8, 6))\n",
    "nx.draw(G, pos, with_labels=True, node_color=node_colors, edge_color=\"gray\", \n",
    "        node_size=800, font_size=10, font_weight=\"bold\", arrowsize=12)\n",
    "\n",
    "# Draw node labels\n",
    "labels = {n: G.nodes[n][\"label\"] for n in G.nodes}\n",
    "nx.draw_networkx_labels(G, pos, labels, font_size=10, font_color=\"white\")\n",
    "\n",
    "plt.title(\"Stock Trade Graph with Gaps\", fontsize=14)\n",
    "plt.show()\n"
   ]
  },
  {
   "cell_type": "code",
   "execution_count": 1,
   "id": "8c3c4c30-074c-49bc-89b5-69036011ff84",
   "metadata": {},
   "outputs": [
    {
     "name": "stdout",
     "output_type": "stream",
     "text": [
      "Requirement already satisfied: gradio in c:\\users\\loksa\\appdata\\local\\programs\\python\\python313\\lib\\site-packages (5.16.1)\n",
      "Requirement already satisfied: aiofiles<24.0,>=22.0 in c:\\users\\loksa\\appdata\\local\\programs\\python\\python313\\lib\\site-packages (from gradio) (23.2.1)\n",
      "Requirement already satisfied: anyio<5.0,>=3.0 in c:\\users\\loksa\\appdata\\local\\programs\\python\\python313\\lib\\site-packages (from gradio) (4.8.0)\n",
      "Requirement already satisfied: audioop-lts<1.0 in c:\\users\\loksa\\appdata\\local\\programs\\python\\python313\\lib\\site-packages (from gradio) (0.2.1)\n",
      "Requirement already satisfied: fastapi<1.0,>=0.115.2 in c:\\users\\loksa\\appdata\\local\\programs\\python\\python313\\lib\\site-packages (from gradio) (0.115.8)\n",
      "Requirement already satisfied: ffmpy in c:\\users\\loksa\\appdata\\local\\programs\\python\\python313\\lib\\site-packages (from gradio) (0.5.0)\n",
      "Requirement already satisfied: gradio-client==1.7.0 in c:\\users\\loksa\\appdata\\local\\programs\\python\\python313\\lib\\site-packages (from gradio) (1.7.0)\n",
      "Requirement already satisfied: httpx>=0.24.1 in c:\\users\\loksa\\appdata\\local\\programs\\python\\python313\\lib\\site-packages (from gradio) (0.28.1)\n",
      "Requirement already satisfied: huggingface-hub>=0.28.1 in c:\\users\\loksa\\appdata\\local\\programs\\python\\python313\\lib\\site-packages (from gradio) (0.29.0)\n",
      "Requirement already satisfied: jinja2<4.0 in c:\\users\\loksa\\appdata\\local\\programs\\python\\python313\\lib\\site-packages (from gradio) (3.1.5)\n",
      "Requirement already satisfied: markupsafe~=2.0 in c:\\users\\loksa\\appdata\\local\\programs\\python\\python313\\lib\\site-packages (from gradio) (2.1.5)\n",
      "Requirement already satisfied: numpy<3.0,>=1.0 in c:\\users\\loksa\\appdata\\local\\programs\\python\\python313\\lib\\site-packages (from gradio) (2.2.3)\n",
      "Requirement already satisfied: orjson~=3.0 in c:\\users\\loksa\\appdata\\local\\programs\\python\\python313\\lib\\site-packages (from gradio) (3.10.15)\n",
      "Requirement already satisfied: packaging in c:\\users\\loksa\\appdata\\local\\programs\\python\\python313\\lib\\site-packages (from gradio) (24.2)\n",
      "Requirement already satisfied: pandas<3.0,>=1.0 in c:\\users\\loksa\\appdata\\local\\programs\\python\\python313\\lib\\site-packages (from gradio) (2.2.3)\n",
      "Requirement already satisfied: pillow<12.0,>=8.0 in c:\\users\\loksa\\appdata\\local\\programs\\python\\python313\\lib\\site-packages (from gradio) (11.1.0)\n",
      "Requirement already satisfied: pydantic>=2.0 in c:\\users\\loksa\\appdata\\local\\programs\\python\\python313\\lib\\site-packages (from gradio) (2.10.6)\n",
      "Requirement already satisfied: pydub in c:\\users\\loksa\\appdata\\local\\programs\\python\\python313\\lib\\site-packages (from gradio) (0.25.1)\n",
      "Requirement already satisfied: python-multipart>=0.0.18 in c:\\users\\loksa\\appdata\\local\\programs\\python\\python313\\lib\\site-packages (from gradio) (0.0.20)\n",
      "Requirement already satisfied: pyyaml<7.0,>=5.0 in c:\\users\\loksa\\appdata\\local\\programs\\python\\python313\\lib\\site-packages (from gradio) (6.0.2)\n",
      "Requirement already satisfied: ruff>=0.9.3 in c:\\users\\loksa\\appdata\\local\\programs\\python\\python313\\lib\\site-packages (from gradio) (0.9.6)\n",
      "Requirement already satisfied: safehttpx<0.2.0,>=0.1.6 in c:\\users\\loksa\\appdata\\local\\programs\\python\\python313\\lib\\site-packages (from gradio) (0.1.6)\n",
      "Requirement already satisfied: semantic-version~=2.0 in c:\\users\\loksa\\appdata\\local\\programs\\python\\python313\\lib\\site-packages (from gradio) (2.10.0)\n",
      "Requirement already satisfied: starlette<1.0,>=0.40.0 in c:\\users\\loksa\\appdata\\local\\programs\\python\\python313\\lib\\site-packages (from gradio) (0.45.3)\n",
      "Requirement already satisfied: tomlkit<0.14.0,>=0.12.0 in c:\\users\\loksa\\appdata\\local\\programs\\python\\python313\\lib\\site-packages (from gradio) (0.13.2)\n",
      "Requirement already satisfied: typer<1.0,>=0.12 in c:\\users\\loksa\\appdata\\local\\programs\\python\\python313\\lib\\site-packages (from gradio) (0.15.1)\n",
      "Requirement already satisfied: typing-extensions~=4.0 in c:\\users\\loksa\\appdata\\local\\programs\\python\\python313\\lib\\site-packages (from gradio) (4.12.2)\n",
      "Requirement already satisfied: uvicorn>=0.14.0 in c:\\users\\loksa\\appdata\\local\\programs\\python\\python313\\lib\\site-packages (from gradio) (0.34.0)\n",
      "Requirement already satisfied: fsspec in c:\\users\\loksa\\appdata\\local\\programs\\python\\python313\\lib\\site-packages (from gradio-client==1.7.0->gradio) (2025.2.0)\n",
      "Requirement already satisfied: websockets<15.0,>=10.0 in c:\\users\\loksa\\appdata\\local\\programs\\python\\python313\\lib\\site-packages (from gradio-client==1.7.0->gradio) (14.2)\n",
      "Requirement already satisfied: idna>=2.8 in c:\\users\\loksa\\appdata\\local\\programs\\python\\python313\\lib\\site-packages (from anyio<5.0,>=3.0->gradio) (3.10)\n",
      "Requirement already satisfied: sniffio>=1.1 in c:\\users\\loksa\\appdata\\local\\programs\\python\\python313\\lib\\site-packages (from anyio<5.0,>=3.0->gradio) (1.3.1)\n",
      "Requirement already satisfied: certifi in c:\\users\\loksa\\appdata\\local\\programs\\python\\python313\\lib\\site-packages (from httpx>=0.24.1->gradio) (2025.1.31)\n",
      "Requirement already satisfied: httpcore==1.* in c:\\users\\loksa\\appdata\\local\\programs\\python\\python313\\lib\\site-packages (from httpx>=0.24.1->gradio) (1.0.7)\n",
      "Requirement already satisfied: h11<0.15,>=0.13 in c:\\users\\loksa\\appdata\\local\\programs\\python\\python313\\lib\\site-packages (from httpcore==1.*->httpx>=0.24.1->gradio) (0.14.0)\n",
      "Requirement already satisfied: filelock in c:\\users\\loksa\\appdata\\local\\programs\\python\\python313\\lib\\site-packages (from huggingface-hub>=0.28.1->gradio) (3.17.0)\n",
      "Requirement already satisfied: requests in c:\\users\\loksa\\appdata\\local\\programs\\python\\python313\\lib\\site-packages (from huggingface-hub>=0.28.1->gradio) (2.32.3)\n",
      "Requirement already satisfied: tqdm>=4.42.1 in c:\\users\\loksa\\appdata\\local\\programs\\python\\python313\\lib\\site-packages (from huggingface-hub>=0.28.1->gradio) (4.67.1)\n",
      "Requirement already satisfied: python-dateutil>=2.8.2 in c:\\users\\loksa\\appdata\\local\\programs\\python\\python313\\lib\\site-packages (from pandas<3.0,>=1.0->gradio) (2.9.0.post0)\n",
      "Requirement already satisfied: pytz>=2020.1 in c:\\users\\loksa\\appdata\\local\\programs\\python\\python313\\lib\\site-packages (from pandas<3.0,>=1.0->gradio) (2025.1)\n",
      "Requirement already satisfied: tzdata>=2022.7 in c:\\users\\loksa\\appdata\\local\\programs\\python\\python313\\lib\\site-packages (from pandas<3.0,>=1.0->gradio) (2025.1)\n",
      "Requirement already satisfied: annotated-types>=0.6.0 in c:\\users\\loksa\\appdata\\local\\programs\\python\\python313\\lib\\site-packages (from pydantic>=2.0->gradio) (0.7.0)\n",
      "Requirement already satisfied: pydantic-core==2.27.2 in c:\\users\\loksa\\appdata\\local\\programs\\python\\python313\\lib\\site-packages (from pydantic>=2.0->gradio) (2.27.2)\n",
      "Requirement already satisfied: click>=8.0.0 in c:\\users\\loksa\\appdata\\local\\programs\\python\\python313\\lib\\site-packages (from typer<1.0,>=0.12->gradio) (8.1.8)\n",
      "Requirement already satisfied: shellingham>=1.3.0 in c:\\users\\loksa\\appdata\\local\\programs\\python\\python313\\lib\\site-packages (from typer<1.0,>=0.12->gradio) (1.5.4)\n",
      "Requirement already satisfied: rich>=10.11.0 in c:\\users\\loksa\\appdata\\local\\programs\\python\\python313\\lib\\site-packages (from typer<1.0,>=0.12->gradio) (13.9.4)\n",
      "Requirement already satisfied: colorama in c:\\users\\loksa\\appdata\\local\\programs\\python\\python313\\lib\\site-packages (from click>=8.0.0->typer<1.0,>=0.12->gradio) (0.4.6)\n",
      "Requirement already satisfied: six>=1.5 in c:\\users\\loksa\\appdata\\local\\programs\\python\\python313\\lib\\site-packages (from python-dateutil>=2.8.2->pandas<3.0,>=1.0->gradio) (1.17.0)\n",
      "Requirement already satisfied: markdown-it-py>=2.2.0 in c:\\users\\loksa\\appdata\\local\\programs\\python\\python313\\lib\\site-packages (from rich>=10.11.0->typer<1.0,>=0.12->gradio) (3.0.0)\n",
      "Requirement already satisfied: pygments<3.0.0,>=2.13.0 in c:\\users\\loksa\\appdata\\local\\programs\\python\\python313\\lib\\site-packages (from rich>=10.11.0->typer<1.0,>=0.12->gradio) (2.19.1)\n",
      "Requirement already satisfied: charset-normalizer<4,>=2 in c:\\users\\loksa\\appdata\\local\\programs\\python\\python313\\lib\\site-packages (from requests->huggingface-hub>=0.28.1->gradio) (3.4.1)\n",
      "Requirement already satisfied: urllib3<3,>=1.21.1 in c:\\users\\loksa\\appdata\\local\\programs\\python\\python313\\lib\\site-packages (from requests->huggingface-hub>=0.28.1->gradio) (2.3.0)\n",
      "Requirement already satisfied: mdurl~=0.1 in c:\\users\\loksa\\appdata\\local\\programs\\python\\python313\\lib\\site-packages (from markdown-it-py>=2.2.0->rich>=10.11.0->typer<1.0,>=0.12->gradio) (0.1.2)\n"
     ]
    }
   ],
   "source": [
    "!pip install gradio "
   ]
  },
  {
   "cell_type": "code",
   "execution_count": 2,
   "id": "7c648cb6-ce3e-45e1-ad38-f97f7543655b",
   "metadata": {},
   "outputs": [
    {
     "name": "stdout",
     "output_type": "stream",
     "text": [
      "Connected to Neo4j successfully!\n"
     ]
    },
    {
     "name": "stderr",
     "output_type": "stream",
     "text": [
      "C:\\Users\\loksa\\AppData\\Local\\Temp\\ipykernel_2344\\3061114045.py:40: DeprecationWarning: write_transaction has been renamed to execute_write\n",
      "  session.write_transaction(insert_trade, row.to_dict())\n"
     ]
    },
    {
     "name": "stdout",
     "output_type": "stream",
     "text": [
      "Inserted stock trades into Neo4j!\n"
     ]
    },
    {
     "name": "stderr",
     "output_type": "stream",
     "text": [
      "C:\\Users\\loksa\\AppData\\Local\\Temp\\ipykernel_2344\\3061114045.py:54: DeprecationWarning: write_transaction has been renamed to execute_write\n",
      "  session.write_transaction(create_relationships)\n"
     ]
    },
    {
     "name": "stdout",
     "output_type": "stream",
     "text": [
      "Created relationships between consecutive trades!\n"
     ]
    },
    {
     "name": "stderr",
     "output_type": "stream",
     "text": [
      "C:\\Users\\loksa\\AppData\\Local\\Temp\\ipykernel_2344\\3061114045.py:75: DeprecationWarning: write_transaction has been renamed to execute_write\n",
      "  session.write_transaction(mark_gaps, row[\"trade_id\"], row[\"is_gap\"])\n"
     ]
    },
    {
     "name": "stdout",
     "output_type": "stream",
     "text": [
      "Marked gaps in Neo4j!\n",
      "* Running on local URL:  http://127.0.0.1:7861\n",
      "\n",
      "To create a public link, set `share=True` in `launch()`.\n"
     ]
    },
    {
     "data": {
      "text/html": [
       "<div><iframe src=\"http://127.0.0.1:7861/\" width=\"100%\" height=\"500\" allow=\"autoplay; camera; microphone; clipboard-read; clipboard-write;\" frameborder=\"0\" allowfullscreen></iframe></div>"
      ],
      "text/plain": [
       "<IPython.core.display.HTML object>"
      ]
     },
     "metadata": {},
     "output_type": "display_data"
    },
    {
     "data": {
      "text/plain": []
     },
     "execution_count": 2,
     "metadata": {},
     "output_type": "execute_result"
    }
   ],
   "source": [
    "import gradio as gr\n",
    "import networkx as nx\n",
    "import matplotlib.pyplot as plt\n",
    "import pandas as pd\n",
    "import numpy as np\n",
    "from neo4j import GraphDatabase\n",
    "\n",
    "# Connect to Neo4j\n",
    "URL = \"bolt://localhost:7687\"  \n",
    "USERNAME = \"neo4j\"\n",
    "PASSWORD = \"password\"\n",
    "\n",
    "driver = GraphDatabase.driver(URL, auth=(USERNAME, PASSWORD))\n",
    "print(\"Connected to Neo4j successfully!\")\n",
    "\n",
    "# Generate sample stock trade data with gaps\n",
    "np.random.seed(42)\n",
    "data = {\n",
    "    \"trade_id\": range(1, 21),\n",
    "    \"ticker\": [\"AAPL\"] * 10 + [\"MSFT\"] * 10,\n",
    "    \"volume\": [1000, 1200, 0, 1100, 1300, 1400, 1250, 0, 1150, 1350,\n",
    "               2000, 0, 2100, 2500, 2600, 2700, 2550, 2300, 0, 2450],\n",
    "    \"price\": [150, 152, 180, 151, 153, 154, 149, 0, 150, 155,\n",
    "              300, 0, 305, 310, 315, 318, 312, 290, 0, 295],\n",
    "    \"timestamp\": pd.date_range(\"2024-02-01\", periods=20, freq=\"h\")\n",
    "}\n",
    "\n",
    "df = pd.DataFrame(data)\n",
    "\n",
    "# Insert trades into Neo4j\n",
    "def insert_trade(tx, trade):\n",
    "    query = \"\"\"\n",
    "    CREATE (t:Trade {trade_id: $trade_id, ticker: $ticker, \n",
    "                     volume: $volume, price: $price, timestamp: $timestamp})\n",
    "    \"\"\"\n",
    "    tx.run(query, **trade)\n",
    "\n",
    "with driver.session() as session:\n",
    "    for _, row in df.iterrows():\n",
    "        session.write_transaction(insert_trade, row.to_dict())\n",
    "\n",
    "print(\"Inserted stock trades into Neo4j!\")\n",
    "\n",
    "# Create relationships between trades\n",
    "def create_relationships(tx):\n",
    "    query = \"\"\"\n",
    "    MATCH (t1:Trade), (t2:Trade) \n",
    "    WHERE t1.timestamp < t2.timestamp\n",
    "    CREATE (t1)-[:NEXT_TRADE]->(t2)\n",
    "    \"\"\"\n",
    "    tx.run(query)\n",
    "\n",
    "with driver.session() as session:\n",
    "    session.write_transaction(create_relationships)\n",
    "\n",
    "print(\"Created relationships between consecutive trades!\")\n",
    "\n",
    "# Identify gaps\n",
    "df[\"missing_volume\"] = df[\"volume\"] == 0\n",
    "df[\"missing_price\"] = df[\"price\"] == 0\n",
    "df[\"price_change\"] = df[\"price\"].diff().fillna(0).abs()\n",
    "df[\"sudden_jump\"] = df[\"price_change\"] > 20\n",
    "df[\"is_gap\"] = df[\"missing_volume\"] | df[\"missing_price\"] | df[\"sudden_jump\"]\n",
    "\n",
    "# Mark gaps in Neo4j\n",
    "def mark_gaps(tx, trade_id, is_gap):\n",
    "    query = \"\"\"\n",
    "    MATCH (t:Trade {trade_id: $trade_id})\n",
    "    SET t.is_gap = $is_gap\n",
    "    \"\"\"\n",
    "    tx.run(query, trade_id=int(trade_id), is_gap=bool(is_gap))\n",
    "\n",
    "with driver.session() as session:\n",
    "    for _, row in df.iterrows():\n",
    "        session.write_transaction(mark_gaps, row[\"trade_id\"], row[\"is_gap\"])\n",
    "\n",
    "print(\"Marked gaps in Neo4j!\")\n",
    "\n",
    "# Function to visualize trade graph\n",
    "def plot_graph():\n",
    "    G = nx.DiGraph()\n",
    "\n",
    "    # Add nodes (trades)\n",
    "    for _, row in df.iterrows():\n",
    "        color = \"red\" if row[\"is_gap\"] else \"green\"\n",
    "        G.add_node(row[\"trade_id\"], color=color, label=f\"{row['trade_id']}\")\n",
    "\n",
    "    # Add edges (NEXT_TRADE relationships)\n",
    "    for i in range(len(df) - 1):\n",
    "        G.add_edge(df.loc[i, \"trade_id\"], df.loc[i+1, \"trade_id\"])\n",
    "\n",
    "    # Define layout\n",
    "    pos = nx.spring_layout(G, seed=42)  # Clear and structured layout\n",
    "    node_colors = [G.nodes[n][\"color\"] for n in G.nodes]\n",
    "\n",
    "    # Draw graph\n",
    "    fig, ax = plt.subplots(figsize=(8, 6))\n",
    "    nx.draw(G, pos, with_labels=True, node_color=node_colors, edge_color=\"gray\",\n",
    "            node_size=800, font_size=10, font_weight=\"bold\", arrowsize=12, ax=ax)\n",
    "\n",
    "    # Draw node labels\n",
    "    labels = {n: G.nodes[n][\"label\"] for n in G.nodes}\n",
    "    nx.draw_networkx_labels(G, pos, labels, font_size=10, font_color=\"white\", ax=ax)\n",
    "\n",
    "    plt.title(\"Stock Trade Graph with Gaps\", fontsize=14)\n",
    "    return fig\n",
    "\n",
    "# Function to display data table\n",
    "def show_data():\n",
    "    return df\n",
    "\n",
    "# Gradio UI\n",
    "gui = gr.Interface(\n",
    "    fn=plot_graph,\n",
    "    inputs=[],\n",
    "    outputs=gr.Plot(),\n",
    "    live=False,\n",
    "    title=\"Stock Trade Graph with Gaps\"\n",
    ")\n",
    "\n",
    "data_table = gr.Interface(\n",
    "    fn=show_data,\n",
    "    inputs=[],\n",
    "    outputs=gr.Dataframe(),\n",
    "    title=\"Trade Data Table\"\n",
    ")\n",
    "\n",
    "demo = gr.TabbedInterface([gui, data_table], [\"Graph\", \"Data Table\"])\n",
    "demo.launch()\n"
   ]
  },
  {
   "cell_type": "code",
   "execution_count": null,
   "id": "351b11a4-0312-4c4f-9bb7-4a02a5442fba",
   "metadata": {},
   "outputs": [],
   "source": []
  }
 ],
 "metadata": {
  "kernelspec": {
   "display_name": "Python 3 (ipykernel)",
   "language": "python",
   "name": "python3"
  },
  "language_info": {
   "codemirror_mode": {
    "name": "ipython",
    "version": 3
   },
   "file_extension": ".py",
   "mimetype": "text/x-python",
   "name": "python",
   "nbconvert_exporter": "python",
   "pygments_lexer": "ipython3",
   "version": "3.13.2"
  }
 },
 "nbformat": 4,
 "nbformat_minor": 5
}
