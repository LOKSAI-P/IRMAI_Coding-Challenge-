{
 "cells": [
  {
   "cell_type": "code",
   "execution_count": null,
   "id": "99046f0e-703b-4b61-a775-a1407b085176",
   "metadata": {},
   "outputs": [],
   "source": [
    "\"\"\"\n",
    "Project1 : Stock Trade Outlier Analysis using Graph Database\n",
    "\n",
    "Objectives:\n",
    "    Develop an FX Trade Analysis System – Build a system to analyze foreign exchange (FX) trades and detect anomalies.\n",
    "    \n",
    "    Construct a Graph-Based Trade Model – Store FX trade data in a Neo4j graph database, representing trades as nodes and relationships between them as edges.\n",
    "    \n",
    "    Identify Outliers in Trading Patterns – Implement statistical methods (Z-score, IQR) to detect unusual trades based on trade volume, price, and timestamp.\n",
    "    \n",
    "    Compare Actual Trades with Expected Guidelines – Define trade pattern benchmarks and identify deviations from expected behavior.\n",
    "    \n",
    "    Visualize and Report Insights – Generate interactive visualizations and summary reports highlighting trade outliers and deviations.\n",
    "    \n",
    "\n",
    "\"\"\""
   ]
  },
  {
   "cell_type": "code",
   "execution_count": 1,
   "id": "55deff82-414a-42a4-ace8-c0318b1c2abd",
   "metadata": {},
   "outputs": [
    {
     "name": "stdout",
     "output_type": "stream",
     "text": [
      "Requirement already satisfied: neo4j in c:\\users\\loksa\\appdata\\local\\programs\\python\\python313\\lib\\site-packages (5.28.1)\n",
      "Requirement already satisfied: pandas in c:\\users\\loksa\\appdata\\local\\programs\\python\\python313\\lib\\site-packages (2.2.3)\n",
      "Requirement already satisfied: numpy in c:\\users\\loksa\\appdata\\local\\programs\\python\\python313\\lib\\site-packages (2.2.3)\n",
      "Requirement already satisfied: networkx in c:\\users\\loksa\\appdata\\local\\programs\\python\\python313\\lib\\site-packages (3.4.2)\n",
      "Requirement already satisfied: matplotlib in c:\\users\\loksa\\appdata\\local\\programs\\python\\python313\\lib\\site-packages (3.10.0)\n",
      "Requirement already satisfied: pytz in c:\\users\\loksa\\appdata\\local\\programs\\python\\python313\\lib\\site-packages (from neo4j) (2025.1)\n",
      "Requirement already satisfied: python-dateutil>=2.8.2 in c:\\users\\loksa\\appdata\\local\\programs\\python\\python313\\lib\\site-packages (from pandas) (2.9.0.post0)\n",
      "Requirement already satisfied: tzdata>=2022.7 in c:\\users\\loksa\\appdata\\local\\programs\\python\\python313\\lib\\site-packages (from pandas) (2025.1)\n",
      "Requirement already satisfied: contourpy>=1.0.1 in c:\\users\\loksa\\appdata\\local\\programs\\python\\python313\\lib\\site-packages (from matplotlib) (1.3.1)\n",
      "Requirement already satisfied: cycler>=0.10 in c:\\users\\loksa\\appdata\\local\\programs\\python\\python313\\lib\\site-packages (from matplotlib) (0.12.1)\n",
      "Requirement already satisfied: fonttools>=4.22.0 in c:\\users\\loksa\\appdata\\local\\programs\\python\\python313\\lib\\site-packages (from matplotlib) (4.56.0)\n",
      "Requirement already satisfied: kiwisolver>=1.3.1 in c:\\users\\loksa\\appdata\\local\\programs\\python\\python313\\lib\\site-packages (from matplotlib) (1.4.8)\n",
      "Requirement already satisfied: packaging>=20.0 in c:\\users\\loksa\\appdata\\local\\programs\\python\\python313\\lib\\site-packages (from matplotlib) (24.2)\n",
      "Requirement already satisfied: pillow>=8 in c:\\users\\loksa\\appdata\\local\\programs\\python\\python313\\lib\\site-packages (from matplotlib) (11.1.0)\n",
      "Requirement already satisfied: pyparsing>=2.3.1 in c:\\users\\loksa\\appdata\\local\\programs\\python\\python313\\lib\\site-packages (from matplotlib) (3.2.1)\n",
      "Requirement already satisfied: six>=1.5 in c:\\users\\loksa\\appdata\\local\\programs\\python\\python313\\lib\\site-packages (from python-dateutil>=2.8.2->pandas) (1.17.0)\n"
     ]
    },
    {
     "name": "stderr",
     "output_type": "stream",
     "text": [
      "\n",
      "[notice] A new release of pip is available: 24.3.1 -> 25.0.1\n",
      "[notice] To update, run: python.exe -m pip install --upgrade pip\n"
     ]
    }
   ],
   "source": [
    "##step1 : Install libraries ##\n",
    "!pip install neo4j pandas numpy networkx matplotlib"
   ]
  },
  {
   "cell_type": "code",
   "execution_count": 1,
   "id": "6e3b0ca1-d289-4c89-ae22-b2e0895c3565",
   "metadata": {},
   "outputs": [
    {
     "name": "stdout",
     "output_type": "stream",
     "text": [
      "Connected to Neo4j successfully!\n"
     ]
    }
   ],
   "source": [
    "##Step 2: Connect to Neo4j Database##\n",
    "\n",
    "from neo4j import GraphDatabase\n",
    "\n",
    "# Neo4j connection details\n",
    "URL = \"bolt://localhost:7687\"  \n",
    "USERNAME = \"neo4j\"\n",
    "PASSWORD = \"password\"\n",
    "\n",
    "# Connect to Neo4j\n",
    "driver = GraphDatabase.driver(URL, auth=(USERNAME, PASSWORD))\n",
    "\n",
    "print(\"Connected to Neo4j successfully!\")\n",
    "\n",
    "\n"
   ]
  },
  {
   "cell_type": "code",
   "execution_count": 3,
   "id": "c38008de-7b81-4ee1-9875-c403a10988ac",
   "metadata": {},
   "outputs": [
    {
     "name": "stdout",
     "output_type": "stream",
     "text": [
      "    trade_id currency_pair  volume   price           timestamp\n",
      "0          1       EUR/USD   12270  1.1116 2024-02-01 00:00:00\n",
      "1          2       EUR/USD    5860  1.2732 2024-02-01 01:00:00\n",
      "2          3       EUR/USD   10390  1.2202 2024-02-01 02:00:00\n",
      "3          4       EUR/USD   18418  1.2416 2024-02-01 03:00:00\n",
      "4          5       EUR/USD   10191  1.1041 2024-02-01 04:00:00\n",
      "5          6       EUR/USD   16964  1.2940 2024-02-01 05:00:00\n",
      "6          7       EUR/USD   16284  1.2665 2024-02-01 06:00:00\n",
      "7          8       GBP/USD   10734  1.1425 2024-02-01 07:00:00\n",
      "8          9       GBP/USD   11265  1.1364 2024-02-01 08:00:00\n",
      "9         10       GBP/USD    5466  1.1367 2024-02-01 09:00:00\n",
      "10        11       GBP/USD   18526  1.1608 2024-02-01 10:00:00\n",
      "11        12       GBP/USD   50000  1.5000 2024-02-01 11:00:00\n",
      "12        13       GBP/USD  100000  0.8000 2024-02-01 12:00:00\n",
      "13        14       GBP/USD     200  1.6000 2024-02-01 13:00:00\n",
      "14        15       GBP/USD     300  0.7000 2024-02-01 14:00:00\n"
     ]
    }
   ],
   "source": [
    "import pandas as pd\n",
    "import numpy as np\n",
    "\n",
    "# Generate sample trade data\n",
    "np.random.seed(42)\n",
    "\n",
    "num_rows = 15  # Ensure all columns have 15 rows\n",
    "\n",
    "data = {\n",
    "    \"trade_id\": range(1, num_rows + 1),\n",
    "    \"currency_pair\": [\"EUR/USD\"] * 7 + [\"GBP/USD\"] * 8,\n",
    "    \"volume\": np.concatenate((\n",
    "        np.random.randint(5000, 20000, num_rows - 4),  # Normal trade volumes\n",
    "        [50000, 100000, 200, 300]  # Outlier volumes\n",
    "    )),\n",
    "    \"price\": np.round(np.concatenate((\n",
    "        np.random.uniform(1.1, 1.3, num_rows - 4),  # Normal prices\n",
    "        [1.5, 0.8, 1.6, 0.7]  # Outlier prices\n",
    "    )), 4),\n",
    "    \"timestamp\": pd.date_range(\"2024-02-01\", periods=num_rows, freq=\"h\")  # Use \"h\" instead of \"H\"\n",
    "}\n",
    "\n",
    "# Convert to DataFrame\n",
    "df = pd.DataFrame(data)\n",
    "\n",
    "print(df)\n"
   ]
  },
  {
   "cell_type": "code",
   "execution_count": 4,
   "id": "0fb4f956-0199-4921-85ca-bd7551dc9fad",
   "metadata": {},
   "outputs": [
    {
     "name": "stderr",
     "output_type": "stream",
     "text": [
      "C:\\Users\\loksa\\AppData\\Local\\Temp\\ipykernel_16788\\3596081073.py:13: DeprecationWarning: write_transaction has been renamed to execute_write\n",
      "  session.write_transaction(insert_trade, row.to_dict())\n"
     ]
    },
    {
     "name": "stdout",
     "output_type": "stream",
     "text": [
      "Inserted trades into Neo4j!\n"
     ]
    }
   ],
   "source": [
    "##Step 4: Insert Data into Neo4j##\n",
    "\n",
    "def insert_trade(tx, trade):\n",
    "    query = \"\"\"\n",
    "    CREATE (t:Trade {trade_id: $trade_id, currency_pair: $currency_pair, \n",
    "                     volume: $volume, price: $price, timestamp: $timestamp})\n",
    "    \"\"\"\n",
    "    tx.run(query, **trade)\n",
    "\n",
    "# Insert each row from DataFrame into Neo4j\n",
    "with driver.session() as session:\n",
    "    for _, row in df.iterrows():\n",
    "        session.write_transaction(insert_trade, row.to_dict())\n",
    "\n",
    "print(\"Inserted trades into Neo4j!\")\n"
   ]
  },
  {
   "cell_type": "code",
   "execution_count": 5,
   "id": "0c4e7ab3-660d-49ed-a80f-a1031b0996d6",
   "metadata": {},
   "outputs": [
    {
     "name": "stderr",
     "output_type": "stream",
     "text": [
      "C:\\Users\\loksa\\AppData\\Local\\Temp\\ipykernel_16788\\382499192.py:12: DeprecationWarning: write_transaction has been renamed to execute_write\n",
      "  session.write_transaction(create_relationships)\n"
     ]
    },
    {
     "name": "stdout",
     "output_type": "stream",
     "text": [
      "Created relationships between consecutive trades!\n"
     ]
    }
   ],
   "source": [
    "##Step 5: Create Relationships Between Trades##\n",
    "\n",
    "def create_relationships(tx):\n",
    "    query = \"\"\"\n",
    "    MATCH (t1:Trade), (t2:Trade) \n",
    "    WHERE t1.timestamp < t2.timestamp\n",
    "    CREATE (t1)-[:NEXT_TRADE]->(t2)\n",
    "    \"\"\"\n",
    "    tx.run(query)\n",
    "\n",
    "with driver.session() as session:\n",
    "    session.write_transaction(create_relationships)\n",
    "\n",
    "print(\"Created relationships between consecutive trades!\")\n"
   ]
  },
  {
   "cell_type": "code",
   "execution_count": 6,
   "id": "eab9687f-4eac-4877-a294-4cd9a05b807c",
   "metadata": {},
   "outputs": [
    {
     "name": "stdout",
     "output_type": "stream",
     "text": [
      "Requirement already satisfied: scipy in c:\\users\\loksa\\appdata\\local\\programs\\python\\python313\\lib\\site-packages (1.15.2)\n",
      "Requirement already satisfied: numpy<2.5,>=1.23.5 in c:\\users\\loksa\\appdata\\local\\programs\\python\\python313\\lib\\site-packages (from scipy) (2.2.3)\n",
      "    trade_id  volume  volume_zscore  is_outlier\n",
      "0          1   12270      -0.281119       False\n",
      "1          2    5860      -0.544006       False\n",
      "2          3   10390      -0.358222       False\n",
      "3          4   18418      -0.028976       False\n",
      "4          5   10191      -0.366383       False\n",
      "5          6   16964      -0.088608       False\n",
      "6          7   16284      -0.116496       False\n",
      "7          8   10734      -0.344113       False\n",
      "8          9   11265      -0.322336       False\n",
      "9         10    5466      -0.560165       False\n",
      "10        11   18526      -0.024547       False\n",
      "11        12   50000       1.266268       False\n",
      "12        13  100000       3.316873        True\n",
      "13        14     200      -0.776135       False\n",
      "14        15     300      -0.772034       False\n"
     ]
    }
   ],
   "source": [
    "###Step 6: Detect Outliers Using Z-Score##\n",
    "!pip install scipy\n",
    "\n",
    "from scipy.stats import zscore\n",
    "\n",
    "# Compute Z-scores for trade volume\n",
    "df[\"volume_zscore\"] = zscore(df[\"volume\"])\n",
    "\n",
    "# Define outliers: Z-score > 2 or < -2\n",
    "df[\"is_outlier\"] = df[\"volume_zscore\"].abs() > 2\n",
    "\n",
    "print(df[[\"trade_id\", \"volume\", \"volume_zscore\", \"is_outlier\"]])\n"
   ]
  },
  {
   "cell_type": "code",
   "execution_count": 7,
   "id": "db4649d4-749a-4391-b3fb-69254e959634",
   "metadata": {},
   "outputs": [
    {
     "name": "stderr",
     "output_type": "stream",
     "text": [
      "C:\\Users\\loksa\\AppData\\Local\\Temp\\ipykernel_16788\\226186190.py:10: DeprecationWarning: write_transaction has been renamed to execute_write\n",
      "  session.write_transaction(mark_outliers, row[\"trade_id\"], row[\"is_outlier\"])\n"
     ]
    },
    {
     "name": "stdout",
     "output_type": "stream",
     "text": [
      "Marked outliers in Neo4j!\n"
     ]
    }
   ],
   "source": [
    "def mark_outliers(tx, trade_id, is_outlier):\n",
    "    query = \"\"\"\n",
    "    MATCH (t:Trade {trade_id: $trade_id})\n",
    "    SET t.is_outlier = $is_outlier\n",
    "    \"\"\"\n",
    "    tx.run(query, trade_id=int(trade_id), is_outlier=bool(is_outlier))  # Ensure correct types\n",
    "\n",
    "with driver.session() as session:\n",
    "    for _, row in df.iterrows():\n",
    "        session.write_transaction(mark_outliers, row[\"trade_id\"], row[\"is_outlier\"])\n",
    "\n",
    "print(\"Marked outliers in Neo4j!\")\n"
   ]
  },
  {
   "cell_type": "code",
   "execution_count": 8,
   "id": "87092694-f1b7-45bd-83f8-6b5bd5992e80",
   "metadata": {},
   "outputs": [
    {
     "data": {
      "image/png": "[encoded data removed]",
      "text/plain": [
       "<Figure size 800x600 with 1 Axes>"
      ]
     },
     "metadata": {},
     "output_type": "display_data"
    }
   ],
   "source": [
    "import networkx as nx\n",
    "import matplotlib.pyplot as plt\n",
    "\n",
    "# Create graph\n",
    "G = nx.DiGraph()\n",
    "\n",
    "# Add nodes (trades)\n",
    "for _, row in df.iterrows():\n",
    "    color = \"red\" if row[\"is_outlier\"] else \"green\"\n",
    "    G.add_node(row[\"trade_id\"], color=color, label=f\"{row['currency_pair']}\\n{row['price']}\")\n",
    "\n",
    "# Add edges (NEXT_TRADE relationships)\n",
    "for i in range(len(df) - 1):\n",
    "    G.add_edge(df.loc[i, \"trade_id\"], df.loc[i+1, \"trade_id\"])\n",
    "\n",
    "# Draw graph\n",
    "pos = nx.spring_layout(G, seed=42)  # Ensure consistent layout\n",
    "colors = [G.nodes[n][\"color\"] for n in G.nodes]\n",
    "labels = {n: G.nodes[n][\"label\"] for n in G.nodes}\n",
    "\n",
    "plt.figure(figsize=(8, 6))\n",
    "nx.draw(G, pos, with_labels=True, node_color=colors, edge_color=\"gray\", node_size=800, font_size=9, font_weight=\"bold\")\n",
    "nx.draw_networkx_labels(G, pos, labels, font_size=8, verticalalignment='center')\n",
    "plt.title(\"FX Trade Graph with Outliers\", fontsize=12)\n",
    "plt.show()"
   ]
  },
  {
   "cell_type": "code",
   "execution_count": 1,
   "id": "e91a9e63-bd6d-470d-96ce-a53ac3e9d6db",
   "metadata": {},
   "outputs": [
    {
     "name": "stdout",
     "output_type": "stream",
     "text": [
      "Requirement already satisfied: gradio in c:\\users\\loksa\\appdata\\local\\programs\\python\\python313\\lib\\site-packages (5.16.1)\n",
      "Requirement already satisfied: aiofiles<24.0,>=22.0 in c:\\users\\loksa\\appdata\\local\\programs\\python\\python313\\lib\\site-packages (from gradio) (23.2.1)\n",
      "Requirement already satisfied: anyio<5.0,>=3.0 in c:\\users\\loksa\\appdata\\local\\programs\\python\\python313\\lib\\site-packages (from gradio) (4.8.0)\n",
      "Requirement already satisfied: audioop-lts<1.0 in c:\\users\\loksa\\appdata\\local\\programs\\python\\python313\\lib\\site-packages (from gradio) (0.2.1)\n",
      "Requirement already satisfied: fastapi<1.0,>=0.115.2 in c:\\users\\loksa\\appdata\\local\\programs\\python\\python313\\lib\\site-packages (from gradio) (0.115.8)\n",
      "Requirement already satisfied: ffmpy in c:\\users\\loksa\\appdata\\local\\programs\\python\\python313\\lib\\site-packages (from gradio) (0.5.0)\n",
      "Requirement already satisfied: gradio-client==1.7.0 in c:\\users\\loksa\\appdata\\local\\programs\\python\\python313\\lib\\site-packages (from gradio) (1.7.0)\n",
      "Requirement already satisfied: httpx>=0.24.1 in c:\\users\\loksa\\appdata\\local\\programs\\python\\python313\\lib\\site-packages (from gradio) (0.28.1)\n",
      "Requirement already satisfied: huggingface-hub>=0.28.1 in c:\\users\\loksa\\appdata\\local\\programs\\python\\python313\\lib\\site-packages (from gradio) (0.29.0)\n",
      "Requirement already satisfied: jinja2<4.0 in c:\\users\\loksa\\appdata\\local\\programs\\python\\python313\\lib\\site-packages (from gradio) (3.1.5)\n",
      "Requirement already satisfied: markupsafe~=2.0 in c:\\users\\loksa\\appdata\\local\\programs\\python\\python313\\lib\\site-packages (from gradio) (2.1.5)\n",
      "Requirement already satisfied: numpy<3.0,>=1.0 in c:\\users\\loksa\\appdata\\local\\programs\\python\\python313\\lib\\site-packages (from gradio) (2.2.3)\n",
      "Requirement already satisfied: orjson~=3.0 in c:\\users\\loksa\\appdata\\local\\programs\\python\\python313\\lib\\site-packages (from gradio) (3.10.15)\n",
      "Requirement already satisfied: packaging in c:\\users\\loksa\\appdata\\local\\programs\\python\\python313\\lib\\site-packages (from gradio) (24.2)\n",
      "Requirement already satisfied: pandas<3.0,>=1.0 in c:\\users\\loksa\\appdata\\local\\programs\\python\\python313\\lib\\site-packages (from gradio) (2.2.3)\n",
      "Requirement already satisfied: pillow<12.0,>=8.0 in c:\\users\\loksa\\appdata\\local\\programs\\python\\python313\\lib\\site-packages (from gradio) (11.1.0)\n",
      "Requirement already satisfied: pydantic>=2.0 in c:\\users\\loksa\\appdata\\local\\programs\\python\\python313\\lib\\site-packages (from gradio) (2.10.6)\n",
      "Requirement already satisfied: pydub in c:\\users\\loksa\\appdata\\local\\programs\\python\\python313\\lib\\site-packages (from gradio) (0.25.1)\n",
      "Requirement already satisfied: python-multipart>=0.0.18 in c:\\users\\loksa\\appdata\\local\\programs\\python\\python313\\lib\\site-packages (from gradio) (0.0.20)\n",
      "Requirement already satisfied: pyyaml<7.0,>=5.0 in c:\\users\\loksa\\appdata\\local\\programs\\python\\python313\\lib\\site-packages (from gradio) (6.0.2)\n",
      "Requirement already satisfied: ruff>=0.9.3 in c:\\users\\loksa\\appdata\\local\\programs\\python\\python313\\lib\\site-packages (from gradio) (0.9.6)\n",
      "Requirement already satisfied: safehttpx<0.2.0,>=0.1.6 in c:\\users\\loksa\\appdata\\local\\programs\\python\\python313\\lib\\site-packages (from gradio) (0.1.6)\n",
      "Requirement already satisfied: semantic-version~=2.0 in c:\\users\\loksa\\appdata\\local\\programs\\python\\python313\\lib\\site-packages (from gradio) (2.10.0)\n",
      "Requirement already satisfied: starlette<1.0,>=0.40.0 in c:\\users\\loksa\\appdata\\local\\programs\\python\\python313\\lib\\site-packages (from gradio) (0.45.3)\n",
      "Requirement already satisfied: tomlkit<0.14.0,>=0.12.0 in c:\\users\\loksa\\appdata\\local\\programs\\python\\python313\\lib\\site-packages (from gradio) (0.13.2)\n",
      "Requirement already satisfied: typer<1.0,>=0.12 in c:\\users\\loksa\\appdata\\local\\programs\\python\\python313\\lib\\site-packages (from gradio) (0.15.1)\n",
      "Requirement already satisfied: typing-extensions~=4.0 in c:\\users\\loksa\\appdata\\local\\programs\\python\\python313\\lib\\site-packages (from gradio) (4.12.2)\n",
      "Requirement already satisfied: uvicorn>=0.14.0 in c:\\users\\loksa\\appdata\\local\\programs\\python\\python313\\lib\\site-packages (from gradio) (0.34.0)\n",
      "Requirement already satisfied: fsspec in c:\\users\\loksa\\appdata\\local\\programs\\python\\python313\\lib\\site-packages (from gradio-client==1.7.0->gradio) (2025.2.0)\n",
      "Requirement already satisfied: websockets<15.0,>=10.0 in c:\\users\\loksa\\appdata\\local\\programs\\python\\python313\\lib\\site-packages (from gradio-client==1.7.0->gradio) (14.2)\n",
      "Requirement already satisfied: idna>=2.8 in c:\\users\\loksa\\appdata\\local\\programs\\python\\python313\\lib\\site-packages (from anyio<5.0,>=3.0->gradio) (3.10)\n",
      "Requirement already satisfied: sniffio>=1.1 in c:\\users\\loksa\\appdata\\local\\programs\\python\\python313\\lib\\site-packages (from anyio<5.0,>=3.0->gradio) (1.3.1)\n",
      "Requirement already satisfied: certifi in c:\\users\\loksa\\appdata\\local\\programs\\python\\python313\\lib\\site-packages (from httpx>=0.24.1->gradio) (2025.1.31)\n",
      "Requirement already satisfied: httpcore==1.* in c:\\users\\loksa\\appdata\\local\\programs\\python\\python313\\lib\\site-packages (from httpx>=0.24.1->gradio) (1.0.7)\n",
      "Requirement already satisfied: h11<0.15,>=0.13 in c:\\users\\loksa\\appdata\\local\\programs\\python\\python313\\lib\\site-packages (from httpcore==1.*->httpx>=0.24.1->gradio) (0.14.0)\n",
      "Requirement already satisfied: filelock in c:\\users\\loksa\\appdata\\local\\programs\\python\\python313\\lib\\site-packages (from huggingface-hub>=0.28.1->gradio) (3.17.0)\n",
      "Requirement already satisfied: requests in c:\\users\\loksa\\appdata\\local\\programs\\python\\python313\\lib\\site-packages (from huggingface-hub>=0.28.1->gradio) (2.32.3)\n",
      "Requirement already satisfied: tqdm>=4.42.1 in c:\\users\\loksa\\appdata\\local\\programs\\python\\python313\\lib\\site-packages (from huggingface-hub>=0.28.1->gradio) (4.67.1)\n",
      "Requirement already satisfied: python-dateutil>=2.8.2 in c:\\users\\loksa\\appdata\\local\\programs\\python\\python313\\lib\\site-packages (from pandas<3.0,>=1.0->gradio) (2.9.0.post0)\n",
      "Requirement already satisfied: pytz>=2020.1 in c:\\users\\loksa\\appdata\\local\\programs\\python\\python313\\lib\\site-packages (from pandas<3.0,>=1.0->gradio) (2025.1)\n",
      "Requirement already satisfied: tzdata>=2022.7 in c:\\users\\loksa\\appdata\\local\\programs\\python\\python313\\lib\\site-packages (from pandas<3.0,>=1.0->gradio) (2025.1)\n",
      "Requirement already satisfied: annotated-types>=0.6.0 in c:\\users\\loksa\\appdata\\local\\programs\\python\\python313\\lib\\site-packages (from pydantic>=2.0->gradio) (0.7.0)\n",
      "Requirement already satisfied: pydantic-core==2.27.2 in c:\\users\\loksa\\appdata\\local\\programs\\python\\python313\\lib\\site-packages (from pydantic>=2.0->gradio) (2.27.2)\n",
      "Requirement already satisfied: click>=8.0.0 in c:\\users\\loksa\\appdata\\local\\programs\\python\\python313\\lib\\site-packages (from typer<1.0,>=0.12->gradio) (8.1.8)\n",
      "Requirement already satisfied: shellingham>=1.3.0 in c:\\users\\loksa\\appdata\\local\\programs\\python\\python313\\lib\\site-packages (from typer<1.0,>=0.12->gradio) (1.5.4)\n",
      "Requirement already satisfied: rich>=10.11.0 in c:\\users\\loksa\\appdata\\local\\programs\\python\\python313\\lib\\site-packages (from typer<1.0,>=0.12->gradio) (13.9.4)\n",
      "Requirement already satisfied: colorama in c:\\users\\loksa\\appdata\\local\\programs\\python\\python313\\lib\\site-packages (from click>=8.0.0->typer<1.0,>=0.12->gradio) (0.4.6)\n",
      "Requirement already satisfied: six>=1.5 in c:\\users\\loksa\\appdata\\local\\programs\\python\\python313\\lib\\site-packages (from python-dateutil>=2.8.2->pandas<3.0,>=1.0->gradio) (1.17.0)\n",
      "Requirement already satisfied: markdown-it-py>=2.2.0 in c:\\users\\loksa\\appdata\\local\\programs\\python\\python313\\lib\\site-packages (from rich>=10.11.0->typer<1.0,>=0.12->gradio) (3.0.0)\n",
      "Requirement already satisfied: pygments<3.0.0,>=2.13.0 in c:\\users\\loksa\\appdata\\local\\programs\\python\\python313\\lib\\site-packages (from rich>=10.11.0->typer<1.0,>=0.12->gradio) (2.19.1)\n",
      "Requirement already satisfied: charset-normalizer<4,>=2 in c:\\users\\loksa\\appdata\\local\\programs\\python\\python313\\lib\\site-packages (from requests->huggingface-hub>=0.28.1->gradio) (3.4.1)\n",
      "Requirement already satisfied: urllib3<3,>=1.21.1 in c:\\users\\loksa\\appdata\\local\\programs\\python\\python313\\lib\\site-packages (from requests->huggingface-hub>=0.28.1->gradio) (2.3.0)\n",
      "Requirement already satisfied: mdurl~=0.1 in c:\\users\\loksa\\appdata\\local\\programs\\python\\python313\\lib\\site-packages (from markdown-it-py>=2.2.0->rich>=10.11.0->typer<1.0,>=0.12->gradio) (0.1.2)\n"
     ]
    }
   ],
   "source": [
    "#!pip install streamlit networkx matplotlib pandas numpy\n",
    "!pip install gradio\n"
   ]
  },
  {
   "cell_type": "code",
   "execution_count": 3,
   "id": "0f11985f-03e9-44bb-b6eb-0ac101f50671",
   "metadata": {},
   "outputs": [
    {
     "name": "stdout",
     "output_type": "stream",
     "text": [
      "* Running on local URL:  http://127.0.0.1:7863\n",
      "\n",
      "To create a public link, set `share=True` in `launch()`.\n"
     ]
    },
    {
     "data": {
      "text/html": [
       "<div><iframe src=\"http://127.0.0.1:7863/\" width=\"100%\" height=\"500\" allow=\"autoplay; camera; microphone; clipboard-read; clipboard-write;\" frameborder=\"0\" allowfullscreen></iframe></div>"
      ],
      "text/plain": [
       "<IPython.core.display.HTML object>"
      ]
     },
     "metadata": {},
     "output_type": "display_data"
    },
    {
     "data": {
      "text/plain": []
     },
     "execution_count": 3,
     "metadata": {},
     "output_type": "execute_result"
    }
   ],
   "source": [
    "import gradio as gr\n",
    "import networkx as nx\n",
    "import matplotlib.pyplot as plt\n",
    "import pandas as pd\n",
    "import numpy as np\n",
    "\n",
    "# Generate sample trade data\n",
    "np.random.seed(42)\n",
    "num_rows = 15  # Ensure all columns have 15 rows\n",
    "data = {\n",
    "    \"trade_id\": range(1, num_rows + 1),\n",
    "    \"currency_pair\": [\"EUR/USD\"] * 7 + [\"GBP/USD\"] * 8,\n",
    "    \"volume\": np.concatenate((\n",
    "        np.random.randint(5000, 20000, num_rows - 4),  # Normal trade volumes\n",
    "        [50000, 100000, 200, 300]  # Outlier volumes\n",
    "    )),\n",
    "    \"price\": np.round(np.concatenate((\n",
    "        np.random.uniform(1.1, 1.3, num_rows - 4),  # Normal prices\n",
    "        [1.5, 0.8, 1.6, 0.7]  # Outlier prices\n",
    "    )), 4),\n",
    "    \"timestamp\": pd.date_range(\"2024-02-01\", periods=num_rows, freq=\"h\")  # Use \"h\" instead of \"H\"\n",
    "}\n",
    "\n",
    "df = pd.DataFrame(data)\n",
    "\n",
    "# Compute Z-scores for trade volume\n",
    "df[\"volume_zscore\"] = (df[\"volume\"] - df[\"volume\"].mean()) / df[\"volume\"].std()\n",
    "df[\"is_outlier\"] = df[\"volume_zscore\"].abs() > 2\n",
    "\n",
    "def plot_graph():\n",
    "    # Create graph\n",
    "    G = nx.DiGraph()\n",
    "\n",
    "    # Add nodes (trades)\n",
    "    for _, row in df.iterrows():\n",
    "        color = \"red\" if row[\"is_outlier\"] else \"green\"\n",
    "        G.add_node(row[\"trade_id\"], color=color, label=f\"{row['currency_pair']}\\n{row['price']}\")\n",
    "\n",
    "    # Add edges (NEXT_TRADE relationships)\n",
    "    for i in range(len(df) - 1):\n",
    "        G.add_edge(df.loc[i, \"trade_id\"], df.loc[i+1, \"trade_id\"])\n",
    "\n",
    "    # Draw graph\n",
    "    pos = nx.spring_layout(G, seed=42)\n",
    "    colors = [G.nodes[n][\"color\"] for n in G.nodes]\n",
    "    labels = {n: G.nodes[n][\"label\"] for n in G.nodes}\n",
    "\n",
    "    fig, ax = plt.subplots(figsize=(8, 6))\n",
    "    nx.draw(G, pos, with_labels=True, node_color=colors, edge_color=\"gray\", node_size=800, font_size=9, font_weight=\"bold\", ax=ax)\n",
    "    nx.draw_networkx_labels(G, pos, labels, font_size=8, verticalalignment='center', ax=ax)\n",
    "    plt.title(\"FX Trade Graph with Outliers\", fontsize=12)\n",
    "    return fig\n",
    "\n",
    "def show_data():\n",
    "    return df\n",
    "\n",
    "gui = gr.Interface(\n",
    "    fn=plot_graph,\n",
    "    inputs=[],\n",
    "    outputs=gr.Plot(),\n",
    "    live=False,\n",
    "    title=\"FX Trade Graph with Outliers\"\n",
    ")\n",
    "\n",
    "data_table = gr.Interface(\n",
    "    fn=show_data,\n",
    "    inputs=[],\n",
    "    outputs=gr.Dataframe(),\n",
    "    title=\"Trade Data Table\"\n",
    ")\n",
    "\n",
    "demo = gr.TabbedInterface([gui, data_table], [\"Graph\", \"Data Table\"])\n",
    "\n",
    "demo.launch()\n"
   ]
  },
  {
   "cell_type": "code",
   "execution_count": null,
   "id": "64fedca9-922e-4aaf-9c6c-b44a51adf787",
   "metadata": {},
   "outputs": [],
   "source": []
  }
 ],
 "metadata": {
  "kernelspec": {
   "display_name": "Python 3 (ipykernel)",
   "language": "python",
   "name": "python3"
  },
  "language_info": {
   "codemirror_mode": {
    "name": "ipython",
    "version": 3
   },
   "file_extension": ".py",
   "mimetype": "text/x-python",
   "name": "python",
   "nbconvert_exporter": "python",
   "pygments_lexer": "ipython3",
   "version": "3.13.2"
  }
 },
 "nbformat": 4,
 "nbformat_minor": 5
}
