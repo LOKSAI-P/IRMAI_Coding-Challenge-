{
 "cells": [
  {
   "cell_type": "code",
   "execution_count": 2,
   "id": "aceb3db0-3876-4f20-9f35-346cb745ebe0",
   "metadata": {},
   "outputs": [
    {
     "data": {
      "text/plain": [
       "'\\n\\n\\n'"
      ]
     },
     "execution_count": 2,
     "metadata": {},
     "output_type": "execute_result"
    }
   ],
   "source": [
    "\"\"\"\n",
    "Project 3: Failure Mode and Effect Analysis (FMEA) for Financial Transactions\n",
    "Objective: Develop a system to perform FMEA on financial transactions and visualize the results using a graph database.\n",
    "\n",
    "Objectives \n",
    "\n",
    "    Develop an FMEA-Based Financial Analysis System – Implement Failure Modes and Effects Analysis (FMEA) to identify potential risks in financial transactions.\n",
    "    \n",
    "    Construct a Graph-Based Transaction Model – Represent financial transactions as a graph in Neo4j, with nodes as transactions and edges as relationships.\n",
    "    \n",
    "    Identify and Analyze Failure Modes – Detect potential failure points in transactions and assess their impact on financial operations.\n",
    "    \n",
    "    Compare Transactions Against Risk Benchmarks – Establish expected transaction patterns and identify deviations that indicate potential failures.\n",
    "    \n",
    "    Visualize and Report Insights – Generate interactive graphs and reports to highlight failure modes and improve financial risk management.\n",
    "\n",
    "\"\"\""
   ]
  },
  {
   "cell_type": "code",
   "execution_count": 1,
   "id": "5e2f95b2-c8a4-4c28-90db-52479e9a8905",
   "metadata": {},
   "outputs": [
    {
     "name": "stdout",
     "output_type": "stream",
     "text": [
      "Requirement already satisfied: neo4j in c:\\users\\loksa\\appdata\\local\\programs\\python\\python313\\lib\\site-packages (5.28.1)\n",
      "Requirement already satisfied: pandas in c:\\users\\loksa\\appdata\\local\\programs\\python\\python313\\lib\\site-packages (2.2.3)\n",
      "Requirement already satisfied: numpy in c:\\users\\loksa\\appdata\\local\\programs\\python\\python313\\lib\\site-packages (2.2.3)\n",
      "Requirement already satisfied: networkx in c:\\users\\loksa\\appdata\\local\\programs\\python\\python313\\lib\\site-packages (3.4.2)\n",
      "Requirement already satisfied: matplotlib in c:\\users\\loksa\\appdata\\local\\programs\\python\\python313\\lib\\site-packages (3.10.0)\n",
      "Requirement already satisfied: pytz in c:\\users\\loksa\\appdata\\local\\programs\\python\\python313\\lib\\site-packages (from neo4j) (2025.1)\n",
      "Requirement already satisfied: python-dateutil>=2.8.2 in c:\\users\\loksa\\appdata\\local\\programs\\python\\python313\\lib\\site-packages (from pandas) (2.9.0.post0)\n",
      "Requirement already satisfied: tzdata>=2022.7 in c:\\users\\loksa\\appdata\\local\\programs\\python\\python313\\lib\\site-packages (from pandas) (2025.1)\n",
      "Requirement already satisfied: contourpy>=1.0.1 in c:\\users\\loksa\\appdata\\local\\programs\\python\\python313\\lib\\site-packages (from matplotlib) (1.3.1)\n",
      "Requirement already satisfied: cycler>=0.10 in c:\\users\\loksa\\appdata\\local\\programs\\python\\python313\\lib\\site-packages (from matplotlib) (0.12.1)\n",
      "Requirement already satisfied: fonttools>=4.22.0 in c:\\users\\loksa\\appdata\\local\\programs\\python\\python313\\lib\\site-packages (from matplotlib) (4.56.0)\n",
      "Requirement already satisfied: kiwisolver>=1.3.1 in c:\\users\\loksa\\appdata\\local\\programs\\python\\python313\\lib\\site-packages (from matplotlib) (1.4.8)\n",
      "Requirement already satisfied: packaging>=20.0 in c:\\users\\loksa\\appdata\\local\\programs\\python\\python313\\lib\\site-packages (from matplotlib) (24.2)\n",
      "Requirement already satisfied: pillow>=8 in c:\\users\\loksa\\appdata\\local\\programs\\python\\python313\\lib\\site-packages (from matplotlib) (11.1.0)\n",
      "Requirement already satisfied: pyparsing>=2.3.1 in c:\\users\\loksa\\appdata\\local\\programs\\python\\python313\\lib\\site-packages (from matplotlib) (3.2.1)\n",
      "Requirement already satisfied: six>=1.5 in c:\\users\\loksa\\appdata\\local\\programs\\python\\python313\\lib\\site-packages (from python-dateutil>=2.8.2->pandas) (1.17.0)\n"
     ]
    }
   ],
   "source": [
    "!pip install neo4j pandas numpy networkx matplotlib\n"
   ]
  },
  {
   "cell_type": "code",
   "execution_count": 2,
   "id": "aa799f3c-c8f2-47c7-93bd-e5067dde3a44",
   "metadata": {},
   "outputs": [
    {
     "name": "stdout",
     "output_type": "stream",
     "text": [
      "Connected to Neo4j successfully!\n"
     ]
    }
   ],
   "source": [
    "from neo4j import GraphDatabase\n",
    "\n",
    "# Neo4j connection details\n",
    "URL = \"bolt://localhost:7687\"  r\n",
    "USERNAME = \"neo4j\"\n",
    "PASSWORD = \"password\"\n",
    "\n",
    "# Connect to Neo4j\n",
    "driver = GraphDatabase.driver(URL, auth=(USERNAME, PASSWORD))\n",
    "\n",
    "print(\"Connected to Neo4j successfully!\")\n"
   ]
  },
  {
   "cell_type": "code",
   "execution_count": 3,
   "id": "56c63cfa-ca7b-4e47-8651-670e2d34daed",
   "metadata": {},
   "outputs": [
    {
     "name": "stdout",
     "output_type": "stream",
     "text": [
      "    transaction_id account_from account_to  amount      type  \\\n",
      "0                1           A1         B1     100  transfer   \n",
      "1                2           A2         B2     200  transfer   \n",
      "2                3           A3         B3    5000    credit   \n",
      "3                4           A1         B1     150  transfer   \n",
      "4                5           A2         B2     200  transfer   \n",
      "5                6           A3         B3    5000    credit   \n",
      "6                7           A1         B1     100  transfer   \n",
      "7                8           A2         B2       0  transfer   \n",
      "8                9           A3         B3    6000    credit   \n",
      "9               10           A1         B1     150  transfer   \n",
      "10              11           A4         B4     -50    refund   \n",
      "11              12           A5         B5    7500    credit   \n",
      "12              13           A1         B6     200  transfer   \n",
      "13              14           A2         B7   10000    credit   \n",
      "14              15           A6         B8     150  transfer   \n",
      "15              16           A1         B1    2500  transfer   \n",
      "16              17           A2         B2       0  transfer   \n",
      "17              18           A3         B3    9000    credit   \n",
      "18              19           A7         B9     180    refund   \n",
      "19              20           A8        B10    -100    credit   \n",
      "\n",
      "             timestamp  \n",
      "0  2024-02-01 00:00:00  \n",
      "1  2024-02-01 01:00:00  \n",
      "2  2024-02-01 02:00:00  \n",
      "3  2024-02-01 03:00:00  \n",
      "4  2024-02-01 04:00:00  \n",
      "5  2024-02-01 05:00:00  \n",
      "6  2024-02-01 06:00:00  \n",
      "7  2024-02-01 07:00:00  \n",
      "8  2024-02-01 08:00:00  \n",
      "9  2024-02-01 09:00:00  \n",
      "10 2024-02-01 10:00:00  \n",
      "11 2024-02-01 11:00:00  \n",
      "12 2024-02-01 12:00:00  \n",
      "13 2024-02-01 13:00:00  \n",
      "14 2024-02-01 14:00:00  \n",
      "15 2024-02-01 15:00:00  \n",
      "16 2024-02-01 16:00:00  \n",
      "17 2024-02-01 17:00:00  \n",
      "18 2024-02-01 18:00:00  \n",
      "19 2024-02-01 19:00:00  \n"
     ]
    }
   ],
   "source": [
    "import pandas as pd\n",
    "import numpy as np\n",
    "\n",
    "# Simulate financial transactions with anomalies\n",
    "np.random.seed(42)\n",
    "\n",
    "data = {\n",
    "    \"transaction_id\": range(1, 21),  # Transaction IDs from 1 to 20\n",
    "    \"account_from\": [\"A1\", \"A2\", \"A3\", \"A1\", \"A2\", \"A3\", \"A1\", \"A2\", \"A3\", \"A1\",\n",
    "                     \"A4\", \"A5\", \"A1\", \"A2\", \"A6\", \"A1\", \"A2\", \"A3\", \"A7\", \"A8\"],\n",
    "    \"account_to\": [\"B1\", \"B2\", \"B3\", \"B1\", \"B2\", \"B3\", \"B1\", \"B2\", \"B3\", \"B1\",\n",
    "                   \"B4\", \"B5\", \"B6\", \"B7\", \"B8\", \"B1\", \"B2\", \"B3\", \"B9\", \"B10\"],\n",
    "    \"amount\": [100, 200, 5000, 150, 200, 5000, 100, 0, 6000, 150,  \n",
    "               -50, 7500, 200, 10000, 150, 2500, 0, 9000, 180, -100],  \n",
    "    \"type\": [\"transfer\", \"transfer\", \"credit\", \"transfer\", \"transfer\", \"credit\",\n",
    "             \"transfer\", \"transfer\", \"credit\", \"transfer\",\n",
    "             \"refund\", \"credit\", \"transfer\", \"credit\", \"transfer\",\n",
    "             \"transfer\", \"transfer\", \"credit\", \"refund\", \"credit\"], \n",
    "    \"timestamp\": pd.date_range(\"2024-02-01\", periods=20, freq=\"h\")  # Every hour\n",
    "}\n",
    "\n",
    "# Convert to DataFrame\n",
    "df = pd.DataFrame(data)\n",
    "\n",
    "print(df)\n"
   ]
  },
  {
   "cell_type": "code",
   "execution_count": 4,
   "id": "6b7fdb0e-bb40-48b6-8a8a-9cb10f873e2c",
   "metadata": {},
   "outputs": [
    {
     "name": "stderr",
     "output_type": "stream",
     "text": [
      "C:\\Users\\loksa\\AppData\\Local\\Temp\\ipykernel_11992\\1887174912.py:11: DeprecationWarning: write_transaction has been renamed to execute_write\n",
      "  session.write_transaction(insert_transaction, row.to_dict())\n"
     ]
    },
    {
     "name": "stdout",
     "output_type": "stream",
     "text": [
      "Inserted transactions into Neo4j!\n"
     ]
    }
   ],
   "source": [
    "def insert_transaction(tx, transaction):\n",
    "    query = \"\"\"\n",
    "    CREATE (t:Transaction {transaction_id: $transaction_id, account_from: $account_from,\n",
    "                           account_to: $account_to, amount: $amount, type: $type, timestamp: $timestamp})\n",
    "    \"\"\"\n",
    "    tx.run(query, **transaction)\n",
    "\n",
    "# Insert each row from DataFrame into Neo4j\n",
    "with driver.session() as session:\n",
    "    for _, row in df.iterrows():\n",
    "        session.write_transaction(insert_transaction, row.to_dict())\n",
    "\n",
    "print(\"Inserted transactions into Neo4j!\")\n"
   ]
  },
  {
   "cell_type": "code",
   "execution_count": 5,
   "id": "3d828d1d-58a1-4e1a-88b6-b8e5bc2f45ef",
   "metadata": {},
   "outputs": [
    {
     "name": "stderr",
     "output_type": "stream",
     "text": [
      "C:\\Users\\loksa\\AppData\\Local\\Temp\\ipykernel_11992\\1050183942.py:10: DeprecationWarning: write_transaction has been renamed to execute_write\n",
      "  session.write_transaction(create_relationships)\n"
     ]
    },
    {
     "name": "stdout",
     "output_type": "stream",
     "text": [
      "Created transaction relationships in Neo4j!\n"
     ]
    }
   ],
   "source": [
    "def create_relationships(tx):\n",
    "    query = \"\"\"\n",
    "    MATCH (t1:Transaction), (t2:Transaction) \n",
    "    WHERE t1.timestamp < t2.timestamp\n",
    "    CREATE (t1)-[:NEXT_TRANSACTION]->(t2)\n",
    "    \"\"\"\n",
    "    tx.run(query)\n",
    "\n",
    "with driver.session() as session:\n",
    "    session.write_transaction(create_relationships)\n",
    "\n",
    "print(\"Created transaction relationships in Neo4j!\")\n"
   ]
  },
  {
   "cell_type": "code",
   "execution_count": 6,
   "id": "8fcaae73-2175-4f65-b710-c9811b96560b",
   "metadata": {},
   "outputs": [
    {
     "name": "stdout",
     "output_type": "stream",
     "text": [
      "    transaction_id  large_amount  zero_amount  duplicate  failure_mode\n",
      "0                1         False        False      False         False\n",
      "1                2         False        False      False         False\n",
      "2                3          True        False      False          True\n",
      "3                4         False        False      False         False\n",
      "4                5         False        False      False         False\n",
      "5                6          True        False      False          True\n",
      "6                7         False        False      False         False\n",
      "7                8         False         True      False          True\n",
      "8                9          True        False      False          True\n",
      "9               10         False        False      False         False\n",
      "10              11         False        False      False         False\n",
      "11              12          True        False      False          True\n",
      "12              13         False        False      False         False\n",
      "13              14          True        False      False          True\n",
      "14              15         False        False      False         False\n",
      "15              16         False        False      False         False\n",
      "16              17         False         True      False          True\n",
      "17              18          True        False      False          True\n",
      "18              19         False        False      False         False\n",
      "19              20         False        False      False         False\n"
     ]
    }
   ],
   "source": [
    "# Define failure modes\n",
    "large_amount_threshold = 3000\n",
    "\n",
    "df[\"large_amount\"] = df[\"amount\"] > large_amount_threshold\n",
    "df[\"zero_amount\"] = df[\"amount\"] == 0\n",
    "\n",
    "# Detect duplicate transactions\n",
    "df[\"duplicate\"] = df.duplicated(subset=[\"account_from\", \"account_to\", \"amount\", \"timestamp\"], keep=False)\n",
    "\n",
    "# Define failure modes\n",
    "df[\"failure_mode\"] = df[\"large_amount\"] | df[\"zero_amount\"] | df[\"duplicate\"]\n",
    "\n",
    "print(df[[\"transaction_id\", \"large_amount\", \"zero_amount\", \"duplicate\", \"failure_mode\"]])\n"
   ]
  },
  {
   "cell_type": "code",
   "execution_count": 7,
   "id": "6b0312fe-bbdb-4130-b0df-6d854d9c37b9",
   "metadata": {},
   "outputs": [
    {
     "name": "stderr",
     "output_type": "stream",
     "text": [
      "C:\\Users\\loksa\\AppData\\Local\\Temp\\ipykernel_11992\\2726783943.py:10: DeprecationWarning: write_transaction has been renamed to execute_write\n",
      "  session.write_transaction(mark_failures, row[\"transaction_id\"], row[\"failure_mode\"])\n"
     ]
    },
    {
     "name": "stdout",
     "output_type": "stream",
     "text": [
      "Marked failure modes in Neo4j!\n"
     ]
    }
   ],
   "source": [
    "def mark_failures(tx, transaction_id, failure_mode):\n",
    "    query = \"\"\"\n",
    "    MATCH (t:Transaction {transaction_id: $transaction_id})\n",
    "    SET t.failure_mode = $failure_mode\n",
    "    \"\"\"\n",
    "    tx.run(query, transaction_id=int(transaction_id), failure_mode=bool(failure_mode))\n",
    "\n",
    "with driver.session() as session:\n",
    "    for _, row in df.iterrows():\n",
    "        session.write_transaction(mark_failures, row[\"transaction_id\"], row[\"failure_mode\"])\n",
    "\n",
    "print(\"Marked failure modes in Neo4j!\")\n"
   ]
  },
  {
   "cell_type": "code",
   "execution_count": 8,
   "id": "8a44f934-3baf-4b78-a54f-443a9443e1ed",
   "metadata": {},
   "outputs": [
    {
     "data": {
      "image/png": "[encoded data removed]",
      "text/plain": [
       "<Figure size 1000x600 with 1 Axes>"
      ]
     },
     "metadata": {},
     "output_type": "display_data"
    }
   ],
   "source": [
    "import networkx as nx\n",
    "import matplotlib.pyplot as plt\n",
    "\n",
    "# Create graph\n",
    "G = nx.DiGraph()\n",
    "\n",
    "# Add nodes (transactions) with labels\n",
    "for _, row in df.iterrows():\n",
    "    color = \"red\" if row.get(\"failure_mode\", False) else \"green\"  # Ensure column exists\n",
    "    G.add_node(row[\"transaction_id\"], color=color, label=f\"{row['transaction_id']}\")\n",
    "\n",
    "# Add edges (NEXT_TRANSACTION relationships)\n",
    "for i in range(len(df) - 1):\n",
    "    G.add_edge(df.loc[i, \"transaction_id\"], df.loc[i+1, \"transaction_id\"])\n",
    "\n",
    "# Define layout\n",
    "pos = nx.spring_layout(G, seed=42)  # Spring layout for even spacing\n",
    "\n",
    "# Get node colors\n",
    "node_colors = [G.nodes[n][\"color\"] for n in G.nodes]\n",
    "\n",
    "# Draw graph with clear spacing\n",
    "plt.figure(figsize=(10, 6))\n",
    "nx.draw(G, pos, with_labels=True, node_color=node_colors, edge_color=\"gray\", \n",
    "        node_size=1000, font_size=12, font_weight=\"bold\", arrows=True, arrowsize=15)\n",
    "\n",
    "# Draw node labels for better visibility\n",
    "labels = {n: G.nodes[n][\"label\"] for n in G.nodes}\n",
    "nx.draw_networkx_labels(G, pos, labels, font_size=10, font_color=\"white\")\n",
    "\n",
    "plt.title(\"Financial Transactions with Failure Modes\", fontsize=14)\n",
    "plt.show()\n"
   ]
  },
  {
   "cell_type": "code",
   "execution_count": 3,
   "id": "51b4b80e-1bb2-4b35-a5b6-3a0c4eedda98",
   "metadata": {},
   "outputs": [
    {
     "name": "stdout",
     "output_type": "stream",
     "text": [
      "Requirement already satisfied: gradio in c:\\users\\loksa\\appdata\\local\\programs\\python\\python313\\lib\\site-packages (5.16.1)\n",
      "Requirement already satisfied: aiofiles<24.0,>=22.0 in c:\\users\\loksa\\appdata\\local\\programs\\python\\python313\\lib\\site-packages (from gradio) (23.2.1)\n",
      "Requirement already satisfied: anyio<5.0,>=3.0 in c:\\users\\loksa\\appdata\\local\\programs\\python\\python313\\lib\\site-packages (from gradio) (4.8.0)\n",
      "Requirement already satisfied: audioop-lts<1.0 in c:\\users\\loksa\\appdata\\local\\programs\\python\\python313\\lib\\site-packages (from gradio) (0.2.1)\n",
      "Requirement already satisfied: fastapi<1.0,>=0.115.2 in c:\\users\\loksa\\appdata\\local\\programs\\python\\python313\\lib\\site-packages (from gradio) (0.115.8)\n",
      "Requirement already satisfied: ffmpy in c:\\users\\loksa\\appdata\\local\\programs\\python\\python313\\lib\\site-packages (from gradio) (0.5.0)\n",
      "Requirement already satisfied: gradio-client==1.7.0 in c:\\users\\loksa\\appdata\\local\\programs\\python\\python313\\lib\\site-packages (from gradio) (1.7.0)\n",
      "Requirement already satisfied: httpx>=0.24.1 in c:\\users\\loksa\\appdata\\local\\programs\\python\\python313\\lib\\site-packages (from gradio) (0.28.1)\n",
      "Requirement already satisfied: huggingface-hub>=0.28.1 in c:\\users\\loksa\\appdata\\local\\programs\\python\\python313\\lib\\site-packages (from gradio) (0.29.0)\n",
      "Requirement already satisfied: jinja2<4.0 in c:\\users\\loksa\\appdata\\local\\programs\\python\\python313\\lib\\site-packages (from gradio) (3.1.5)\n",
      "Requirement already satisfied: markupsafe~=2.0 in c:\\users\\loksa\\appdata\\local\\programs\\python\\python313\\lib\\site-packages (from gradio) (2.1.5)\n",
      "Requirement already satisfied: numpy<3.0,>=1.0 in c:\\users\\loksa\\appdata\\local\\programs\\python\\python313\\lib\\site-packages (from gradio) (2.2.3)\n",
      "Requirement already satisfied: orjson~=3.0 in c:\\users\\loksa\\appdata\\local\\programs\\python\\python313\\lib\\site-packages (from gradio) (3.10.15)\n",
      "Requirement already satisfied: packaging in c:\\users\\loksa\\appdata\\local\\programs\\python\\python313\\lib\\site-packages (from gradio) (24.2)\n",
      "Requirement already satisfied: pandas<3.0,>=1.0 in c:\\users\\loksa\\appdata\\local\\programs\\python\\python313\\lib\\site-packages (from gradio) (2.2.3)\n",
      "Requirement already satisfied: pillow<12.0,>=8.0 in c:\\users\\loksa\\appdata\\local\\programs\\python\\python313\\lib\\site-packages (from gradio) (11.1.0)\n",
      "Requirement already satisfied: pydantic>=2.0 in c:\\users\\loksa\\appdata\\local\\programs\\python\\python313\\lib\\site-packages (from gradio) (2.10.6)\n",
      "Requirement already satisfied: pydub in c:\\users\\loksa\\appdata\\local\\programs\\python\\python313\\lib\\site-packages (from gradio) (0.25.1)\n",
      "Requirement already satisfied: python-multipart>=0.0.18 in c:\\users\\loksa\\appdata\\local\\programs\\python\\python313\\lib\\site-packages (from gradio) (0.0.20)\n",
      "Requirement already satisfied: pyyaml<7.0,>=5.0 in c:\\users\\loksa\\appdata\\local\\programs\\python\\python313\\lib\\site-packages (from gradio) (6.0.2)\n",
      "Requirement already satisfied: ruff>=0.9.3 in c:\\users\\loksa\\appdata\\local\\programs\\python\\python313\\lib\\site-packages (from gradio) (0.9.6)\n",
      "Requirement already satisfied: safehttpx<0.2.0,>=0.1.6 in c:\\users\\loksa\\appdata\\local\\programs\\python\\python313\\lib\\site-packages (from gradio) (0.1.6)\n",
      "Requirement already satisfied: semantic-version~=2.0 in c:\\users\\loksa\\appdata\\local\\programs\\python\\python313\\lib\\site-packages (from gradio) (2.10.0)\n",
      "Requirement already satisfied: starlette<1.0,>=0.40.0 in c:\\users\\loksa\\appdata\\local\\programs\\python\\python313\\lib\\site-packages (from gradio) (0.45.3)\n",
      "Requirement already satisfied: tomlkit<0.14.0,>=0.12.0 in c:\\users\\loksa\\appdata\\local\\programs\\python\\python313\\lib\\site-packages (from gradio) (0.13.2)\n",
      "Requirement already satisfied: typer<1.0,>=0.12 in c:\\users\\loksa\\appdata\\local\\programs\\python\\python313\\lib\\site-packages (from gradio) (0.15.1)\n",
      "Requirement already satisfied: typing-extensions~=4.0 in c:\\users\\loksa\\appdata\\local\\programs\\python\\python313\\lib\\site-packages (from gradio) (4.12.2)\n",
      "Requirement already satisfied: uvicorn>=0.14.0 in c:\\users\\loksa\\appdata\\local\\programs\\python\\python313\\lib\\site-packages (from gradio) (0.34.0)\n",
      "Requirement already satisfied: fsspec in c:\\users\\loksa\\appdata\\local\\programs\\python\\python313\\lib\\site-packages (from gradio-client==1.7.0->gradio) (2025.2.0)\n",
      "Requirement already satisfied: websockets<15.0,>=10.0 in c:\\users\\loksa\\appdata\\local\\programs\\python\\python313\\lib\\site-packages (from gradio-client==1.7.0->gradio) (14.2)\n",
      "Requirement already satisfied: idna>=2.8 in c:\\users\\loksa\\appdata\\local\\programs\\python\\python313\\lib\\site-packages (from anyio<5.0,>=3.0->gradio) (3.10)\n",
      "Requirement already satisfied: sniffio>=1.1 in c:\\users\\loksa\\appdata\\local\\programs\\python\\python313\\lib\\site-packages (from anyio<5.0,>=3.0->gradio) (1.3.1)\n",
      "Requirement already satisfied: certifi in c:\\users\\loksa\\appdata\\local\\programs\\python\\python313\\lib\\site-packages (from httpx>=0.24.1->gradio) (2025.1.31)\n",
      "Requirement already satisfied: httpcore==1.* in c:\\users\\loksa\\appdata\\local\\programs\\python\\python313\\lib\\site-packages (from httpx>=0.24.1->gradio) (1.0.7)\n",
      "Requirement already satisfied: h11<0.15,>=0.13 in c:\\users\\loksa\\appdata\\local\\programs\\python\\python313\\lib\\site-packages (from httpcore==1.*->httpx>=0.24.1->gradio) (0.14.0)\n",
      "Requirement already satisfied: filelock in c:\\users\\loksa\\appdata\\local\\programs\\python\\python313\\lib\\site-packages (from huggingface-hub>=0.28.1->gradio) (3.17.0)\n",
      "Requirement already satisfied: requests in c:\\users\\loksa\\appdata\\local\\programs\\python\\python313\\lib\\site-packages (from huggingface-hub>=0.28.1->gradio) (2.32.3)\n",
      "Requirement already satisfied: tqdm>=4.42.1 in c:\\users\\loksa\\appdata\\local\\programs\\python\\python313\\lib\\site-packages (from huggingface-hub>=0.28.1->gradio) (4.67.1)\n",
      "Requirement already satisfied: python-dateutil>=2.8.2 in c:\\users\\loksa\\appdata\\local\\programs\\python\\python313\\lib\\site-packages (from pandas<3.0,>=1.0->gradio) (2.9.0.post0)\n",
      "Requirement already satisfied: pytz>=2020.1 in c:\\users\\loksa\\appdata\\local\\programs\\python\\python313\\lib\\site-packages (from pandas<3.0,>=1.0->gradio) (2025.1)\n",
      "Requirement already satisfied: tzdata>=2022.7 in c:\\users\\loksa\\appdata\\local\\programs\\python\\python313\\lib\\site-packages (from pandas<3.0,>=1.0->gradio) (2025.1)\n",
      "Requirement already satisfied: annotated-types>=0.6.0 in c:\\users\\loksa\\appdata\\local\\programs\\python\\python313\\lib\\site-packages (from pydantic>=2.0->gradio) (0.7.0)\n",
      "Requirement already satisfied: pydantic-core==2.27.2 in c:\\users\\loksa\\appdata\\local\\programs\\python\\python313\\lib\\site-packages (from pydantic>=2.0->gradio) (2.27.2)\n",
      "Requirement already satisfied: click>=8.0.0 in c:\\users\\loksa\\appdata\\local\\programs\\python\\python313\\lib\\site-packages (from typer<1.0,>=0.12->gradio) (8.1.8)\n",
      "Requirement already satisfied: shellingham>=1.3.0 in c:\\users\\loksa\\appdata\\local\\programs\\python\\python313\\lib\\site-packages (from typer<1.0,>=0.12->gradio) (1.5.4)\n",
      "Requirement already satisfied: rich>=10.11.0 in c:\\users\\loksa\\appdata\\local\\programs\\python\\python313\\lib\\site-packages (from typer<1.0,>=0.12->gradio) (13.9.4)\n",
      "Requirement already satisfied: colorama in c:\\users\\loksa\\appdata\\local\\programs\\python\\python313\\lib\\site-packages (from click>=8.0.0->typer<1.0,>=0.12->gradio) (0.4.6)\n",
      "Requirement already satisfied: six>=1.5 in c:\\users\\loksa\\appdata\\local\\programs\\python\\python313\\lib\\site-packages (from python-dateutil>=2.8.2->pandas<3.0,>=1.0->gradio) (1.17.0)\n",
      "Requirement already satisfied: markdown-it-py>=2.2.0 in c:\\users\\loksa\\appdata\\local\\programs\\python\\python313\\lib\\site-packages (from rich>=10.11.0->typer<1.0,>=0.12->gradio) (3.0.0)\n",
      "Requirement already satisfied: pygments<3.0.0,>=2.13.0 in c:\\users\\loksa\\appdata\\local\\programs\\python\\python313\\lib\\site-packages (from rich>=10.11.0->typer<1.0,>=0.12->gradio) (2.19.1)\n",
      "Requirement already satisfied: charset-normalizer<4,>=2 in c:\\users\\loksa\\appdata\\local\\programs\\python\\python313\\lib\\site-packages (from requests->huggingface-hub>=0.28.1->gradio) (3.4.1)\n",
      "Requirement already satisfied: urllib3<3,>=1.21.1 in c:\\users\\loksa\\appdata\\local\\programs\\python\\python313\\lib\\site-packages (from requests->huggingface-hub>=0.28.1->gradio) (2.3.0)\n",
      "Requirement already satisfied: mdurl~=0.1 in c:\\users\\loksa\\appdata\\local\\programs\\python\\python313\\lib\\site-packages (from markdown-it-py>=2.2.0->rich>=10.11.0->typer<1.0,>=0.12->gradio) (0.1.2)\n"
     ]
    }
   ],
   "source": [
    "!pip install gradio "
   ]
  },
  {
   "cell_type": "code",
   "execution_count": 4,
   "id": "4764eff6-03dc-43d4-89e8-959f44fa2af9",
   "metadata": {},
   "outputs": [
    {
     "name": "stderr",
     "output_type": "stream",
     "text": [
      "C:\\Users\\loksa\\AppData\\Local\\Temp\\ipykernel_8808\\2849573836.py:53: DeprecationWarning: write_transaction has been renamed to execute_write\n",
      "  session.write_transaction(insert_transaction, row.to_dict())\n"
     ]
    },
    {
     "name": "stdout",
     "output_type": "stream",
     "text": [
      "Inserted transactions into Neo4j!\n"
     ]
    },
    {
     "name": "stderr",
     "output_type": "stream",
     "text": [
      "C:\\Users\\loksa\\AppData\\Local\\Temp\\ipykernel_8808\\2849573836.py:67: DeprecationWarning: write_transaction has been renamed to execute_write\n",
      "  session.write_transaction(create_relationships)\n"
     ]
    },
    {
     "name": "stdout",
     "output_type": "stream",
     "text": [
      "Created transaction relationships in Neo4j!\n",
      "* Running on local URL:  http://127.0.0.1:7860\n",
      "\n",
      "To create a public link, set `share=True` in `launch()`.\n"
     ]
    },
    {
     "data": {
      "text/html": [
       "<div><iframe src=\"http://127.0.0.1:7860/\" width=\"100%\" height=\"500\" allow=\"autoplay; camera; microphone; clipboard-read; clipboard-write;\" frameborder=\"0\" allowfullscreen></iframe></div>"
      ],
      "text/plain": [
       "<IPython.core.display.HTML object>"
      ]
     },
     "metadata": {},
     "output_type": "display_data"
    },
    {
     "data": {
      "text/plain": []
     },
     "execution_count": 4,
     "metadata": {},
     "output_type": "execute_result"
    }
   ],
   "source": [
    "import gradio as gr\n",
    "import pandas as pd\n",
    "import numpy as np\n",
    "import networkx as nx\n",
    "import matplotlib.pyplot as plt\n",
    "from neo4j import GraphDatabase\n",
    "\n",
    "# Neo4j connection details\n",
    "URL = \"bolt://localhost:7687\"  \n",
    "USERNAME = \"neo4j\"\n",
    "PASSWORD = \"password\"\n",
    "\n",
    "# Connect to Neo4j\n",
    "driver = GraphDatabase.driver(URL, auth=(USERNAME, PASSWORD))\n",
    "\n",
    "# Generate sample transactions with anomalies\n",
    "np.random.seed(42)\n",
    "data = {\n",
    "    \"transaction_id\": range(1, 21),\n",
    "    \"account_from\": [\"A1\", \"A2\", \"A3\", \"A1\", \"A2\", \"A3\", \"A1\", \"A2\", \"A3\", \"A1\",\n",
    "                     \"A4\", \"A5\", \"A1\", \"A2\", \"A6\", \"A1\", \"A2\", \"A3\", \"A7\", \"A8\"],\n",
    "    \"account_to\": [\"B1\", \"B2\", \"B3\", \"B1\", \"B2\", \"B3\", \"B1\", \"B2\", \"B3\", \"B1\",\n",
    "                   \"B4\", \"B5\", \"B6\", \"B7\", \"B8\", \"B1\", \"B2\", \"B3\", \"B9\", \"B10\"],\n",
    "    \"amount\": [100, 200, 5000, 150, 200, 5000, 100, 0, 6000, 150,\n",
    "               -50, 7500, 200, 10000, 150, 2500, 0, 9000, 180, -100],\n",
    "    \"type\": [\"transfer\", \"transfer\", \"credit\", \"transfer\", \"transfer\", \"credit\",\n",
    "             \"transfer\", \"transfer\", \"credit\", \"transfer\",\n",
    "             \"refund\", \"credit\", \"transfer\", \"credit\", \"transfer\",\n",
    "             \"transfer\", \"transfer\", \"credit\", \"refund\", \"credit\"],\n",
    "    \"timestamp\": pd.date_range(\"2024-02-01\", periods=20, freq=\"h\")\n",
    "}\n",
    "\n",
    "# Convert to DataFrame\n",
    "df = pd.DataFrame(data)\n",
    "\n",
    "# Define failure modes\n",
    "large_amount_threshold = 3000\n",
    "df[\"large_amount\"] = df[\"amount\"] > large_amount_threshold\n",
    "df[\"zero_amount\"] = df[\"amount\"] == 0\n",
    "df[\"duplicate\"] = df.duplicated(subset=[\"account_from\", \"account_to\", \"amount\", \"timestamp\"], keep=False)\n",
    "df[\"failure_mode\"] = df[\"large_amount\"] | df[\"zero_amount\"] | df[\"duplicate\"]\n",
    "\n",
    "# Insert transactions into Neo4j\n",
    "def insert_transaction(tx, transaction):\n",
    "    query = \"\"\"\n",
    "    CREATE (t:Transaction {transaction_id: $transaction_id, account_from: $account_from,\n",
    "                           account_to: $account_to, amount: $amount, type: $type, timestamp: $timestamp})\n",
    "    \"\"\"\n",
    "    tx.run(query, **transaction)\n",
    "\n",
    "with driver.session() as session:\n",
    "    for _, row in df.iterrows():\n",
    "        session.write_transaction(insert_transaction, row.to_dict())\n",
    "\n",
    "print(\"Inserted transactions into Neo4j!\")\n",
    "\n",
    "# Create relationships in Neo4j\n",
    "def create_relationships(tx):\n",
    "    query = \"\"\"\n",
    "    MATCH (t1:Transaction), (t2:Transaction) \n",
    "    WHERE t1.timestamp < t2.timestamp\n",
    "    CREATE (t1)-[:NEXT_TRANSACTION]->(t2)\n",
    "    \"\"\"\n",
    "    tx.run(query)\n",
    "\n",
    "with driver.session() as session:\n",
    "    session.write_transaction(create_relationships)\n",
    "\n",
    "print(\"Created transaction relationships in Neo4j!\")\n",
    "\n",
    "# Function to plot the financial transactions graph\n",
    "def plot_graph():\n",
    "    G = nx.DiGraph()\n",
    "\n",
    "    for _, row in df.iterrows():\n",
    "        color = \"red\" if row.get(\"failure_mode\", False) else \"green\"\n",
    "        G.add_node(row[\"transaction_id\"], color=color, label=f\"{row['transaction_id']}\")\n",
    "\n",
    "    for i in range(len(df) - 1):\n",
    "        G.add_edge(df.loc[i, \"transaction_id\"], df.loc[i+1, \"transaction_id\"])\n",
    "\n",
    "    pos = nx.spring_layout(G, seed=42)\n",
    "    node_colors = [G.nodes[n][\"color\"] for n in G.nodes]\n",
    "\n",
    "    plt.figure(figsize=(10, 6))\n",
    "    nx.draw(G, pos, with_labels=True, node_color=node_colors, edge_color=\"gray\", \n",
    "            node_size=1000, font_size=12, font_weight=\"bold\", arrows=True, arrowsize=15)\n",
    "\n",
    "    labels = {n: G.nodes[n][\"label\"] for n in G.nodes}\n",
    "    nx.draw_networkx_labels(G, pos, labels, font_size=10, font_color=\"white\")\n",
    "\n",
    "    plt.title(\"Financial Transactions with Failure Modes\", fontsize=14)\n",
    "    plt.savefig(\"graph.png\")  # Save image for Gradio\n",
    "    return \"graph.png\"\n",
    "\n",
    "# Function to return DataFrame for table display\n",
    "def get_transaction_data():\n",
    "    return df[[\"transaction_id\", \"account_from\", \"account_to\", \"amount\", \"type\", \"timestamp\", \"failure_mode\"]]\n",
    "\n",
    "# Gradio UI\n",
    "with gr.Blocks() as demo:\n",
    "    gr.Markdown(\"## 💰 **Financial Transactions Analysis**\")\n",
    "    gr.Markdown(\"🛑 Red Nodes = Anomalies | ✅ Green Nodes = Normal Transactions\")\n",
    "\n",
    "    with gr.Row():\n",
    "        btn = gr.Button(\"Generate Graph\")\n",
    "        img = gr.Image()\n",
    "    btn.click(plot_graph, outputs=img)\n",
    "\n",
    "    gr.Markdown(\"### 📊 **Transaction Data Table**\")\n",
    "    table = gr.Dataframe(get_transaction_data())\n",
    "\n",
    "# Run Gradio UI\n",
    "demo.launch()\n"
   ]
  },
  {
   "cell_type": "code",
   "execution_count": null,
   "id": "9264be13-5eb5-4209-a45a-57161198dbeb",
   "metadata": {},
   "outputs": [],
   "source": []
  },
  {
   "cell_type": "code",
   "execution_count": null,
   "id": "eca499d9-ddbe-4c99-8ab4-549d14ac8dc4",
   "metadata": {},
   "outputs": [],
   "source": []
  },
  {
   "cell_type": "code",
   "execution_count": null,
   "id": "aae01bfe-a5dd-4f74-bc1a-ec797987b29a",
   "metadata": {},
   "outputs": [],
   "source": []
  }
 ],
 "metadata": {
  "kernelspec": {
   "display_name": "Python 3 (ipykernel)",
   "language": "python",
   "name": "python3"
  },
  "language_info": {
   "codemirror_mode": {
    "name": "ipython",
    "version": 3
   },
   "file_extension": ".py",
   "mimetype": "text/x-python",
   "name": "python",
   "nbconvert_exporter": "python",
   "pygments_lexer": "ipython3",
   "version": "3.13.2"
  }
 },
 "nbformat": 4,
 "nbformat_minor": 5
}
